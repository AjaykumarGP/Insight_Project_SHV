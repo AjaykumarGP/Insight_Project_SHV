{
 "cells": [
  {
   "cell_type": "code",
   "execution_count": 1,
   "metadata": {},
   "outputs": [],
   "source": [
    "# Importing modules\n",
    "import pandas as pd\n",
    "from pandas.api.types import is_string_dtype\n",
    "import re\n",
    "import numpy as np\n",
    "import sys\n",
    "sys.path.insert(1, './scripts/')\n",
    "from data_cleaner import *\n",
    "\n",
    "#Importing spell chacking and language detection packages\n",
    "from enchant.checker import SpellChecker\n",
    "from langdetect import detect\n",
    "\n",
    "#importing necessary nltk packages\n",
    "from nltk.tokenize import word_tokenize"
   ]
  },
  {
   "cell_type": "markdown",
   "metadata": {},
   "source": [
    "# Cleaning the Data"
   ]
  },
  {
   "cell_type": "markdown",
   "metadata": {},
   "source": [
    "This section includes: removing the duplicate rows from the data, spelling correction.\n",
    "The rows of data that the refelction column has nonsense content-these are identifed by finding the row with unusually large number of words and removed. The rows with non-english content are also detected and removed.\n"
   ]
  },
  {
   "cell_type": "code",
   "execution_count": 2,
   "metadata": {},
   "outputs": [
    {
     "data": {
      "text/plain": [
       "(184835, 4)"
      ]
     },
     "execution_count": 2,
     "metadata": {},
     "output_type": "execute_result"
    }
   ],
   "source": [
    "data = pd.read_csv('StudentReflectionStrategy.csv')\n",
    "data.shape"
   ]
  },
  {
   "cell_type": "code",
   "execution_count": 3,
   "metadata": {},
   "outputs": [],
   "source": [
    "data.drop_duplicates(subset =[\"content\", \"top_1_score\", \"top_2_score\"], \n",
    "                     keep = 'first', inplace = True)"
   ]
  },
  {
   "cell_type": "code",
   "execution_count": 4,
   "metadata": {},
   "outputs": [
    {
     "data": {
      "text/plain": [
       "UseCase        104350\n",
       "content        104350\n",
       "top_1_score    104350\n",
       "top_2_score    104350\n",
       "dtype: int64"
      ]
     },
     "execution_count": 4,
     "metadata": {},
     "output_type": "execute_result"
    }
   ],
   "source": [
    "data.count()"
   ]
  },
  {
   "cell_type": "code",
   "execution_count": 5,
   "metadata": {},
   "outputs": [],
   "source": [
    "content_list = list(data['content'])"
   ]
  },
  {
   "cell_type": "code",
   "execution_count": 6,
   "metadata": {},
   "outputs": [],
   "source": [
    "#Correcting the misspelled\n",
    "data['Corrected_content'] = spell_check(content_list)\n"
   ]
  },
  {
   "cell_type": "code",
   "execution_count": 7,
   "metadata": {},
   "outputs": [],
   "source": [
    "#data.to_csv(\"data_no_duplicate_spell_checked\")"
   ]
  },
  {
   "cell_type": "code",
   "execution_count": 8,
   "metadata": {},
   "outputs": [],
   "source": [
    "#data.head()"
   ]
  },
  {
   "cell_type": "code",
   "execution_count": 9,
   "metadata": {},
   "outputs": [],
   "source": [
    "#corrected refelction added to the dataframe\n",
    "ref_list = list(data['Corrected_content'])\n"
   ]
  },
  {
   "cell_type": "code",
   "execution_count": 10,
   "metadata": {},
   "outputs": [],
   "source": [
    "def word_count(text):\n",
    "    '''\n",
    "    word_count: function for counting the number of the words in the reflections\n",
    "    Expects:  a string\n",
    "    Returns: a list of words count in each reflection\n",
    "    '''\n",
    "    refl_wordcount = []\n",
    "    for refl in text:\n",
    "        refl_wordcount.append(len(word_tokenize(refl)))\n",
    "    return refl_wordcount\n",
    "\n",
    "def lang_detect(text):\n",
    "    '''\n",
    "    lang_detect: function for detecting the languauge of the reflections\n",
    "    Expects: a string\n",
    "    Returns: a list of the detected languages\n",
    "    '''\n",
    "    lang = []\n",
    "    for refl in text:\n",
    "        lang.append(detect(refl))\n",
    "    return lang\n"
   ]
  },
  {
   "cell_type": "code",
   "execution_count": 11,
   "metadata": {},
   "outputs": [],
   "source": [
    "#new coulmns word_counts and language of the reflections are added to dataframe\n",
    "data['word_counts']  = word_count(ref_list)\n",
    "data['lang']  = lang_detect(ref_list)"
   ]
  },
  {
   "cell_type": "code",
   "execution_count": 15,
   "metadata": {
    "scrolled": true
   },
   "outputs": [
    {
     "data": {
      "text/html": [
       "<div>\n",
       "<style scoped>\n",
       "    .dataframe tbody tr th:only-of-type {\n",
       "        vertical-align: middle;\n",
       "    }\n",
       "\n",
       "    .dataframe tbody tr th {\n",
       "        vertical-align: top;\n",
       "    }\n",
       "\n",
       "    .dataframe thead th {\n",
       "        text-align: right;\n",
       "    }\n",
       "</style>\n",
       "<table border=\"1\" class=\"dataframe\">\n",
       "  <thead>\n",
       "    <tr style=\"text-align: right;\">\n",
       "      <th></th>\n",
       "      <th>UseCase</th>\n",
       "      <th>content</th>\n",
       "      <th>top_1_score</th>\n",
       "      <th>top_2_score</th>\n",
       "      <th>Corrected_content</th>\n",
       "      <th>word_counts</th>\n",
       "      <th>lang</th>\n",
       "    </tr>\n",
       "  </thead>\n",
       "  <tbody>\n",
       "    <tr>\n",
       "      <td>122266</td>\n",
       "      <td>0</td>\n",
       "      <td>Bee Movie Script - Dialogue Transcript Voila! ...</td>\n",
       "      <td>4</td>\n",
       "      <td>3</td>\n",
       "      <td>Bee Movie Script - Dialogged Transcript Viola!...</td>\n",
       "      <td>12747</td>\n",
       "      <td>en</td>\n",
       "    </tr>\n",
       "    <tr>\n",
       "      <td>147563</td>\n",
       "      <td>1</td>\n",
       "      <td>second semester i will work on paying more att...</td>\n",
       "      <td>3</td>\n",
       "      <td>4</td>\n",
       "      <td>second semester i will work on paying more att...</td>\n",
       "      <td>2785</td>\n",
       "      <td>so</td>\n",
       "    </tr>\n",
       "    <tr>\n",
       "      <td>158969</td>\n",
       "      <td>1</td>\n",
       "      <td>i finally did something to learn.   type A,typ...</td>\n",
       "      <td>1</td>\n",
       "      <td>3</td>\n",
       "      <td>i finally did something to learn.   type A,typ...</td>\n",
       "      <td>1294</td>\n",
       "      <td>en</td>\n",
       "    </tr>\n",
       "    <tr>\n",
       "      <td>25267</td>\n",
       "      <td>0</td>\n",
       "      <td>This article is about the cat species that is ...</td>\n",
       "      <td>3</td>\n",
       "      <td>4</td>\n",
       "      <td>This article is about the cat species that is ...</td>\n",
       "      <td>856</td>\n",
       "      <td>en</td>\n",
       "    </tr>\n",
       "    <tr>\n",
       "      <td>161852</td>\n",
       "      <td>1</td>\n",
       "      <td>Ahhh! Such a beautiful day, uh (yea) The sun’s...</td>\n",
       "      <td>4</td>\n",
       "      <td>3</td>\n",
       "      <td>Ahoy! Such a beautiful day, uh (yea) The sun’s...</td>\n",
       "      <td>787</td>\n",
       "      <td>en</td>\n",
       "    </tr>\n",
       "  </tbody>\n",
       "</table>\n",
       "</div>"
      ],
      "text/plain": [
       "        UseCase                                            content  \\\n",
       "122266        0  Bee Movie Script - Dialogue Transcript Voila! ...   \n",
       "147563        1  second semester i will work on paying more att...   \n",
       "158969        1  i finally did something to learn.   type A,typ...   \n",
       "25267         0  This article is about the cat species that is ...   \n",
       "161852        1  Ahhh! Such a beautiful day, uh (yea) The sun’s...   \n",
       "\n",
       "        top_1_score  top_2_score  \\\n",
       "122266            4            3   \n",
       "147563            3            4   \n",
       "158969            1            3   \n",
       "25267             3            4   \n",
       "161852            4            3   \n",
       "\n",
       "                                        Corrected_content  word_counts lang  \n",
       "122266  Bee Movie Script - Dialogged Transcript Viola!...        12747   en  \n",
       "147563  second semester i will work on paying more att...         2785   so  \n",
       "158969  i finally did something to learn.   type A,typ...         1294   en  \n",
       "25267   This article is about the cat species that is ...          856   en  \n",
       "161852  Ahoy! Such a beautiful day, uh (yea) The sun’s...          787   en  "
      ]
     },
     "execution_count": 15,
     "metadata": {},
     "output_type": "execute_result"
    }
   ],
   "source": [
    "#reflections are sorted based on their number of words\n",
    "data_new= data.sort_values('word_counts', ascending=False)\n",
    "data_new.head()\n"
   ]
  },
  {
   "cell_type": "markdown",
   "metadata": {},
   "source": [
    "I read the first 25 refelections which had the highest number of the words and noticed that most of them cotain irrelevant content inclduing a movie script."
   ]
  },
  {
   "cell_type": "code",
   "execution_count": 16,
   "metadata": {},
   "outputs": [],
   "source": [
    "#list of the index that identified as irrelevant content:\n",
    "list_to_removed = [122266, 147563, 158969, 25267,161852, 43573, 30258, 95833, 37911, 25318, 124847, 97110, 25298, 93031, 39079, \n",
    "                   106633, 92032, 50680, 128034]"
   ]
  },
  {
   "cell_type": "code",
   "execution_count": 17,
   "metadata": {},
   "outputs": [
    {
     "data": {
      "text/html": [
       "<div>\n",
       "<style scoped>\n",
       "    .dataframe tbody tr th:only-of-type {\n",
       "        vertical-align: middle;\n",
       "    }\n",
       "\n",
       "    .dataframe tbody tr th {\n",
       "        vertical-align: top;\n",
       "    }\n",
       "\n",
       "    .dataframe thead th {\n",
       "        text-align: right;\n",
       "    }\n",
       "</style>\n",
       "<table border=\"1\" class=\"dataframe\">\n",
       "  <thead>\n",
       "    <tr style=\"text-align: right;\">\n",
       "      <th></th>\n",
       "      <th>UseCase</th>\n",
       "      <th>content</th>\n",
       "      <th>top_1_score</th>\n",
       "      <th>top_2_score</th>\n",
       "      <th>Corrected_content</th>\n",
       "      <th>word_counts</th>\n",
       "      <th>lang</th>\n",
       "    </tr>\n",
       "  </thead>\n",
       "  <tbody>\n",
       "    <tr>\n",
       "      <td>161835</td>\n",
       "      <td>1</td>\n",
       "      <td>I will take notes and not talk. I will pay att...</td>\n",
       "      <td>2</td>\n",
       "      <td>3</td>\n",
       "      <td>I will take notes and not talk. I will pay att...</td>\n",
       "      <td>703</td>\n",
       "      <td>en</td>\n",
       "    </tr>\n",
       "    <tr>\n",
       "      <td>153306</td>\n",
       "      <td>1</td>\n",
       "      <td>I understand sense we do these notes it hel...</td>\n",
       "      <td>4</td>\n",
       "      <td>3</td>\n",
       "      <td>I understand sense we do these notes it hel...</td>\n",
       "      <td>634</td>\n",
       "      <td>en</td>\n",
       "    </tr>\n",
       "    <tr>\n",
       "      <td>166028</td>\n",
       "      <td>1</td>\n",
       "      <td>Over the course of the six weeks, I was consta...</td>\n",
       "      <td>4</td>\n",
       "      <td>3</td>\n",
       "      <td>Over the course of the six weeks, I was consta...</td>\n",
       "      <td>566</td>\n",
       "      <td>en</td>\n",
       "    </tr>\n",
       "    <tr>\n",
       "      <td>145501</td>\n",
       "      <td>1</td>\n",
       "      <td>I feel like I made my best improvements in exp...</td>\n",
       "      <td>3</td>\n",
       "      <td>4</td>\n",
       "      <td>I feel like I made my best improvements in exp...</td>\n",
       "      <td>407</td>\n",
       "      <td>en</td>\n",
       "    </tr>\n",
       "    <tr>\n",
       "      <td>28786</td>\n",
       "      <td>0</td>\n",
       "      <td>*The knowledge checks and quizzes prepared me...</td>\n",
       "      <td>4</td>\n",
       "      <td>3</td>\n",
       "      <td>*The knowledge checks and quizzes prepared me...</td>\n",
       "      <td>403</td>\n",
       "      <td>en</td>\n",
       "    </tr>\n",
       "  </tbody>\n",
       "</table>\n",
       "</div>"
      ],
      "text/plain": [
       "        UseCase                                            content  \\\n",
       "161835        1  I will take notes and not talk. I will pay att...   \n",
       "153306        1     I understand sense we do these notes it hel...   \n",
       "166028        1  Over the course of the six weeks, I was consta...   \n",
       "145501        1  I feel like I made my best improvements in exp...   \n",
       "28786         0   *The knowledge checks and quizzes prepared me...   \n",
       "\n",
       "        top_1_score  top_2_score  \\\n",
       "161835            2            3   \n",
       "153306            4            3   \n",
       "166028            4            3   \n",
       "145501            3            4   \n",
       "28786             4            3   \n",
       "\n",
       "                                        Corrected_content  word_counts lang  \n",
       "161835  I will take notes and not talk. I will pay att...          703   en  \n",
       "153306     I understand sense we do these notes it hel...          634   en  \n",
       "166028  Over the course of the six weeks, I was consta...          566   en  \n",
       "145501  I feel like I made my best improvements in exp...          407   en  \n",
       "28786    *The knowledge checks and quizzes prepared me...          403   en  "
      ]
     },
     "execution_count": 17,
     "metadata": {},
     "output_type": "execute_result"
    }
   ],
   "source": [
    "#rows with irrelevant content are removed\n",
    "data_new.drop(list_to_removed, inplace = True)\n",
    "data_new.head()"
   ]
  },
  {
   "cell_type": "code",
   "execution_count": 18,
   "metadata": {},
   "outputs": [
    {
     "data": {
      "text/plain": [
       "(104331, 7)"
      ]
     },
     "execution_count": 18,
     "metadata": {},
     "output_type": "execute_result"
    }
   ],
   "source": [
    "data_new.shape"
   ]
  },
  {
   "cell_type": "code",
   "execution_count": 19,
   "metadata": {},
   "outputs": [
    {
     "data": {
      "text/plain": [
       "(104230, 7)"
      ]
     },
     "execution_count": 19,
     "metadata": {},
     "output_type": "execute_result"
    }
   ],
   "source": [
    "#row of data with non-English content removed\n",
    "data_newer = data_new.drop(data_new[(data_new.lang =='es')].index)\n",
    "data_newer.shape"
   ]
  },
  {
   "cell_type": "code",
   "execution_count": 20,
   "metadata": {},
   "outputs": [],
   "source": [
    "#data_newer.head()"
   ]
  },
  {
   "cell_type": "code",
   "execution_count": 21,
   "metadata": {
    "scrolled": false
   },
   "outputs": [
    {
     "data": {
      "text/html": [
       "<div>\n",
       "<style scoped>\n",
       "    .dataframe tbody tr th:only-of-type {\n",
       "        vertical-align: middle;\n",
       "    }\n",
       "\n",
       "    .dataframe tbody tr th {\n",
       "        vertical-align: top;\n",
       "    }\n",
       "\n",
       "    .dataframe thead th {\n",
       "        text-align: right;\n",
       "    }\n",
       "</style>\n",
       "<table border=\"1\" class=\"dataframe\">\n",
       "  <thead>\n",
       "    <tr style=\"text-align: right;\">\n",
       "      <th></th>\n",
       "      <th>UseCase</th>\n",
       "      <th>content</th>\n",
       "      <th>top_1_score</th>\n",
       "      <th>top_2_score</th>\n",
       "      <th>Corrected_content</th>\n",
       "      <th>word_counts</th>\n",
       "      <th>lang</th>\n",
       "    </tr>\n",
       "  </thead>\n",
       "  <tbody>\n",
       "    <tr>\n",
       "      <td>0</td>\n",
       "      <td>1</td>\n",
       "      <td>I will take notes and not talk. I will pay att...</td>\n",
       "      <td>2</td>\n",
       "      <td>3</td>\n",
       "      <td>I will take notes and not talk. I will pay att...</td>\n",
       "      <td>703</td>\n",
       "      <td>en</td>\n",
       "    </tr>\n",
       "    <tr>\n",
       "      <td>1</td>\n",
       "      <td>1</td>\n",
       "      <td>I understand sense we do these notes it hel...</td>\n",
       "      <td>4</td>\n",
       "      <td>3</td>\n",
       "      <td>I understand sense we do these notes it hel...</td>\n",
       "      <td>634</td>\n",
       "      <td>en</td>\n",
       "    </tr>\n",
       "    <tr>\n",
       "      <td>2</td>\n",
       "      <td>1</td>\n",
       "      <td>Over the course of the six weeks, I was consta...</td>\n",
       "      <td>4</td>\n",
       "      <td>3</td>\n",
       "      <td>Over the course of the six weeks, I was consta...</td>\n",
       "      <td>566</td>\n",
       "      <td>en</td>\n",
       "    </tr>\n",
       "    <tr>\n",
       "      <td>3</td>\n",
       "      <td>1</td>\n",
       "      <td>I feel like I made my best improvements in exp...</td>\n",
       "      <td>3</td>\n",
       "      <td>4</td>\n",
       "      <td>I feel like I made my best improvements in exp...</td>\n",
       "      <td>407</td>\n",
       "      <td>en</td>\n",
       "    </tr>\n",
       "    <tr>\n",
       "      <td>4</td>\n",
       "      <td>0</td>\n",
       "      <td>*The knowledge checks and quizzes prepared me...</td>\n",
       "      <td>4</td>\n",
       "      <td>3</td>\n",
       "      <td>*The knowledge checks and quizzes prepared me...</td>\n",
       "      <td>403</td>\n",
       "      <td>en</td>\n",
       "    </tr>\n",
       "    <tr>\n",
       "      <td>...</td>\n",
       "      <td>...</td>\n",
       "      <td>...</td>\n",
       "      <td>...</td>\n",
       "      <td>...</td>\n",
       "      <td>...</td>\n",
       "      <td>...</td>\n",
       "      <td>...</td>\n",
       "    </tr>\n",
       "    <tr>\n",
       "      <td>104225</td>\n",
       "      <td>0</td>\n",
       "      <td>reread questions</td>\n",
       "      <td>2</td>\n",
       "      <td>3</td>\n",
       "      <td>reread questions</td>\n",
       "      <td>2</td>\n",
       "      <td>fr</td>\n",
       "    </tr>\n",
       "    <tr>\n",
       "      <td>104226</td>\n",
       "      <td>0</td>\n",
       "      <td>the questions</td>\n",
       "      <td>2</td>\n",
       "      <td>3</td>\n",
       "      <td>the questions</td>\n",
       "      <td>2</td>\n",
       "      <td>fr</td>\n",
       "    </tr>\n",
       "    <tr>\n",
       "      <td>104227</td>\n",
       "      <td>0</td>\n",
       "      <td>the questions</td>\n",
       "      <td>2</td>\n",
       "      <td>3</td>\n",
       "      <td>the questions</td>\n",
       "      <td>2</td>\n",
       "      <td>fr</td>\n",
       "    </tr>\n",
       "    <tr>\n",
       "      <td>104228</td>\n",
       "      <td>1</td>\n",
       "      <td>asked questions</td>\n",
       "      <td>2</td>\n",
       "      <td>3</td>\n",
       "      <td>asked questions</td>\n",
       "      <td>2</td>\n",
       "      <td>fr</td>\n",
       "    </tr>\n",
       "    <tr>\n",
       "      <td>104229</td>\n",
       "      <td>0</td>\n",
       "      <td>I.will.identify.the.setting.next.time</td>\n",
       "      <td>2</td>\n",
       "      <td>3</td>\n",
       "      <td>I.will.identify.the.setting.next.time</td>\n",
       "      <td>1</td>\n",
       "      <td>en</td>\n",
       "    </tr>\n",
       "  </tbody>\n",
       "</table>\n",
       "<p>104230 rows × 7 columns</p>\n",
       "</div>"
      ],
      "text/plain": [
       "        UseCase                                            content  \\\n",
       "0             1  I will take notes and not talk. I will pay att...   \n",
       "1             1     I understand sense we do these notes it hel...   \n",
       "2             1  Over the course of the six weeks, I was consta...   \n",
       "3             1  I feel like I made my best improvements in exp...   \n",
       "4             0   *The knowledge checks and quizzes prepared me...   \n",
       "...         ...                                                ...   \n",
       "104225        0                                 reread questions     \n",
       "104226        0                                      the questions   \n",
       "104227        0                                     the questions    \n",
       "104228        1                                    asked questions   \n",
       "104229        0              I.will.identify.the.setting.next.time   \n",
       "\n",
       "        top_1_score  top_2_score  \\\n",
       "0                 2            3   \n",
       "1                 4            3   \n",
       "2                 4            3   \n",
       "3                 3            4   \n",
       "4                 4            3   \n",
       "...             ...          ...   \n",
       "104225            2            3   \n",
       "104226            2            3   \n",
       "104227            2            3   \n",
       "104228            2            3   \n",
       "104229            2            3   \n",
       "\n",
       "                                        Corrected_content  word_counts lang  \n",
       "0       I will take notes and not talk. I will pay att...          703   en  \n",
       "1          I understand sense we do these notes it hel...          634   en  \n",
       "2       Over the course of the six weeks, I was consta...          566   en  \n",
       "3       I feel like I made my best improvements in exp...          407   en  \n",
       "4        *The knowledge checks and quizzes prepared me...          403   en  \n",
       "...                                                   ...          ...  ...  \n",
       "104225                                 reread questions              2   fr  \n",
       "104226                                      the questions            2   fr  \n",
       "104227                                     the questions             2   fr  \n",
       "104228                                    asked questions            2   fr  \n",
       "104229              I.will.identify.the.setting.next.time            1   en  \n",
       "\n",
       "[104230 rows x 7 columns]"
      ]
     },
     "execution_count": 21,
     "metadata": {},
     "output_type": "execute_result"
    }
   ],
   "source": [
    "data_newer.reset_index(drop=True)"
   ]
  },
  {
   "cell_type": "code",
   "execution_count": 22,
   "metadata": {},
   "outputs": [],
   "source": [
    "#new dataframe from cleaned data saved as 'final_cleaned_data'\n",
    "data_newer.to_csv('final_cleaned_data')"
   ]
  },
  {
   "cell_type": "markdown",
   "metadata": {},
   "source": [
    "# Extracting the reflections with scores 3 or 4\n",
    "As these refelctions are expected to have richer content in terms of the topics of learning strategies."
   ]
  },
  {
   "cell_type": "code",
   "execution_count": 23,
   "metadata": {},
   "outputs": [],
   "source": [
    "cleaned_data = pd.read_csv('final_cleaned_data')\n",
    "#cleaned_data.tail()"
   ]
  },
  {
   "cell_type": "code",
   "execution_count": 24,
   "metadata": {},
   "outputs": [],
   "source": [
    "cleaned_data['average_score'] = (cleaned_data['top_1_score'] + cleaned_data['top_2_score'])/2"
   ]
  },
  {
   "cell_type": "code",
   "execution_count": 25,
   "metadata": {},
   "outputs": [],
   "source": [
    "is_highest = cleaned_data['average_score']==3.5 "
   ]
  },
  {
   "cell_type": "code",
   "execution_count": 26,
   "metadata": {},
   "outputs": [],
   "source": [
    "data_highest=cleaned_data[is_highest]"
   ]
  },
  {
   "cell_type": "code",
   "execution_count": 27,
   "metadata": {},
   "outputs": [
    {
     "data": {
      "text/plain": [
       "Unnamed: 0           23150\n",
       "UseCase              23150\n",
       "content              23150\n",
       "top_1_score          23150\n",
       "top_2_score          23150\n",
       "Corrected_content    23150\n",
       "word_counts          23150\n",
       "lang                 23150\n",
       "average_score        23150\n",
       "dtype: int64"
      ]
     },
     "execution_count": 27,
     "metadata": {},
     "output_type": "execute_result"
    }
   ],
   "source": [
    "data_highest.count()"
   ]
  },
  {
   "cell_type": "code",
   "execution_count": 28,
   "metadata": {},
   "outputs": [
    {
     "name": "stdout",
     "output_type": "stream",
     "text": [
      "<class 'pandas.core.frame.DataFrame'>\n",
      "Int64Index: 23150 entries, 1 to 65218\n",
      "Data columns (total 9 columns):\n",
      "Unnamed: 0           23150 non-null int64\n",
      "UseCase              23150 non-null int64\n",
      "content              23150 non-null object\n",
      "top_1_score          23150 non-null int64\n",
      "top_2_score          23150 non-null int64\n",
      "Corrected_content    23150 non-null object\n",
      "word_counts          23150 non-null int64\n",
      "lang                 23150 non-null object\n",
      "average_score        23150 non-null float64\n",
      "dtypes: float64(1), int64(5), object(3)\n",
      "memory usage: 1.8+ MB\n"
     ]
    }
   ],
   "source": [
    "data_highest.info()"
   ]
  },
  {
   "cell_type": "code",
   "execution_count": 29,
   "metadata": {},
   "outputs": [],
   "source": [
    "data_highest_new = data_highest.drop(['Unnamed: 0', 'UseCase'], axis = 1)\n",
    "#data_highest_new.head()"
   ]
  },
  {
   "cell_type": "code",
   "execution_count": 30,
   "metadata": {},
   "outputs": [],
   "source": [
    "data_highest_new.to_csv('highest_cleaned')"
   ]
  },
  {
   "cell_type": "markdown",
   "metadata": {},
   "source": [
    " a dataframe form cleaned and spell corrected refelctions with average score of 3.5 saved as 'highest_cleaned'\n",
    " which later on will be used for topic modeling"
   ]
  },
  {
   "cell_type": "code",
   "execution_count": null,
   "metadata": {},
   "outputs": [],
   "source": []
  }
 ],
 "metadata": {
  "kernelspec": {
   "display_name": "Python 3",
   "language": "python",
   "name": "python3"
  },
  "language_info": {
   "codemirror_mode": {
    "name": "ipython",
    "version": 3
   },
   "file_extension": ".py",
   "mimetype": "text/x-python",
   "name": "python",
   "nbconvert_exporter": "python",
   "pygments_lexer": "ipython3",
   "version": "3.6.9"
  }
 },
 "nbformat": 4,
 "nbformat_minor": 2
}
