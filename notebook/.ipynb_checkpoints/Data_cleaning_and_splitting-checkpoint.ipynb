{
 "cells": [
  {
   "cell_type": "code",
   "execution_count": 70,
   "metadata": {},
   "outputs": [],
   "source": [
    "# Importing modules\n",
    "import pandas as pd\n",
    "from pandas.api.types import is_string_dtype\n",
    "import re\n",
    "import numpy as np\n",
    "\n",
    "#Importing spell chacking and language detection packages\n",
    "from enchant.checker import SpellChecker\n",
    "from langdetect import detect\n",
    "\n",
    "#importing necessary nltk packages\n",
    "from nltk.tokenize import word_tokenize"
   ]
  },
  {
   "cell_type": "markdown",
   "metadata": {},
   "source": [
    "# Cleaning the Data"
   ]
  },
  {
   "cell_type": "markdown",
   "metadata": {},
   "source": [
    "This section includes: removing the duplicate rows from the data, spelling correction.\n",
    "The rows of data that the refelction column has nonsense content-these are identifed by finding the row with unusually large number of words and removed. The rows with non-english content are also detected and removed.\n"
   ]
  },
  {
   "cell_type": "code",
   "execution_count": 50,
   "metadata": {},
   "outputs": [
    {
     "data": {
      "text/plain": [
       "(184835, 4)"
      ]
     },
     "execution_count": 50,
     "metadata": {},
     "output_type": "execute_result"
    }
   ],
   "source": [
    "data = pd.read_csv('StudentReflectionStrategy.csv')\n",
    "data.shape"
   ]
  },
  {
   "cell_type": "code",
   "execution_count": 51,
   "metadata": {},
   "outputs": [],
   "source": [
    "data.drop_duplicates(subset =[\"content\", \"top_1_score\", \"top_2_score\"], \n",
    "                     keep = 'first', inplace = True)"
   ]
  },
  {
   "cell_type": "code",
   "execution_count": 52,
   "metadata": {},
   "outputs": [
    {
     "data": {
      "text/plain": [
       "UseCase        104350\n",
       "content        104350\n",
       "top_1_score    104350\n",
       "top_2_score    104350\n",
       "dtype: int64"
      ]
     },
     "execution_count": 52,
     "metadata": {},
     "output_type": "execute_result"
    }
   ],
   "source": [
    "data.count()"
   ]
  },
  {
   "cell_type": "code",
   "execution_count": 8,
   "metadata": {},
   "outputs": [],
   "source": [
    "#data.to_csv(\"data_no_duplicate\")"
   ]
  },
  {
   "cell_type": "code",
   "execution_count": 5,
   "metadata": {},
   "outputs": [],
   "source": [
    "#from enchant.checker import SpellChecker"
   ]
  },
  {
   "cell_type": "code",
   "execution_count": 53,
   "metadata": {},
   "outputs": [],
   "source": [
    "def spell_check(text):       \n",
    "    '''\n",
    "    spell_check: function for correcting the spelling of the reflections\n",
    "    Expects:  a string\n",
    "    Returns: a list\n",
    "    '''\n",
    "    Corr_RF = []\n",
    "    #Grab each individual reflection\n",
    "    for refl in text.split():\n",
    "        #Check to see if the words are in the dictionary\n",
    "        chkr = SpellChecker(\"en_US\", refl)\n",
    "        for err in chkr:\n",
    "            #for the identified errors or words not in dictionary get the suggested correction\n",
    "            #and replace it in the reflection string\n",
    "            if len(err.suggest()) > 0:\n",
    "                sug = err.suggest()[0]\n",
    "                err.replace(sug)\n",
    "        Corr_RF.append(chkr.get_text())\n",
    "        #return the dataframe with the new corrected reflection column\n",
    "    return ' '.join(Corr_RF)"
   ]
  },
  {
   "cell_type": "code",
   "execution_count": 54,
   "metadata": {},
   "outputs": [],
   "source": [
    "#Correcting the misspelled\n",
    "data['Corrected_content'] = data.content.apply(spell_check)\n"
   ]
  },
  {
   "cell_type": "code",
   "execution_count": null,
   "metadata": {
    "collapsed": true
   },
   "outputs": [],
   "source": [
    "#data.to_csv(\"data_no_duplicate_spell_checked\")"
   ]
  },
  {
   "cell_type": "code",
   "execution_count": 77,
   "metadata": {},
   "outputs": [],
   "source": [
    "#data.head()"
   ]
  },
  {
   "cell_type": "code",
   "execution_count": 78,
   "metadata": {},
   "outputs": [],
   "source": [
    "#corrected refelction added to the dataframe\n",
    "ref_list = list(data['Corrected_content'])\n"
   ]
  },
  {
   "cell_type": "code",
   "execution_count": 113,
   "metadata": {},
   "outputs": [],
   "source": [
    "def word_count(text):\n",
    "    '''\n",
    "    word_count: function for counting the number of the words in the reflections\n",
    "    Expects:  a string\n",
    "    Returns: a list of words count in each reflection\n",
    "    '''\n",
    "    refl_wordcount = []\n",
    "    for refl in text:\n",
    "        refl_wordcount.append(len(word_tokenize(refl)))\n",
    "    return refl_wordcount\n",
    "\n",
    "def lang_detect(text):\n",
    "    '''\n",
    "    lang_detect: function for detecting the languauge of the reflections\n",
    "    Expects: a string\n",
    "    Returns: a list of the detected languages\n",
    "    '''\n",
    "    lang = []\n",
    "    for refl in text:\n",
    "        lang.append(detect(refl))\n",
    "    return lang\n"
   ]
  },
  {
   "cell_type": "code",
   "execution_count": 114,
   "metadata": {},
   "outputs": [],
   "source": [
    "#new coulmns word_counts and language of the reflections are added to dataframe\n",
    "data['word_counts']  = word_count(ref_list)\n",
    "data['lang']  = lang_detect(ref_list)"
   ]
  },
  {
   "cell_type": "code",
   "execution_count": 134,
   "metadata": {},
   "outputs": [],
   "source": [
    "#data.head()"
   ]
  },
  {
   "cell_type": "code",
   "execution_count": 116,
   "metadata": {
    "scrolled": true
   },
   "outputs": [
    {
     "data": {
      "text/html": [
       "<div>\n",
       "<style scoped>\n",
       "    .dataframe tbody tr th:only-of-type {\n",
       "        vertical-align: middle;\n",
       "    }\n",
       "\n",
       "    .dataframe tbody tr th {\n",
       "        vertical-align: top;\n",
       "    }\n",
       "\n",
       "    .dataframe thead th {\n",
       "        text-align: right;\n",
       "    }\n",
       "</style>\n",
       "<table border=\"1\" class=\"dataframe\">\n",
       "  <thead>\n",
       "    <tr style=\"text-align: right;\">\n",
       "      <th></th>\n",
       "      <th>UseCase</th>\n",
       "      <th>content</th>\n",
       "      <th>top_1_score</th>\n",
       "      <th>top_2_score</th>\n",
       "      <th>Corrected_content</th>\n",
       "      <th>word_counts</th>\n",
       "      <th>lang</th>\n",
       "    </tr>\n",
       "  </thead>\n",
       "  <tbody>\n",
       "    <tr>\n",
       "      <td>122266</td>\n",
       "      <td>0</td>\n",
       "      <td>Bee Movie Script - Dialogue Transcript Voila! ...</td>\n",
       "      <td>4</td>\n",
       "      <td>3</td>\n",
       "      <td>Bee Movie Script - Dialogged Transcript Viola!...</td>\n",
       "      <td>12747</td>\n",
       "      <td>en</td>\n",
       "    </tr>\n",
       "    <tr>\n",
       "      <td>147563</td>\n",
       "      <td>1</td>\n",
       "      <td>second semester i will work on paying more att...</td>\n",
       "      <td>3</td>\n",
       "      <td>4</td>\n",
       "      <td>second semester i will work on paying more att...</td>\n",
       "      <td>2785</td>\n",
       "      <td>so</td>\n",
       "    </tr>\n",
       "    <tr>\n",
       "      <td>158969</td>\n",
       "      <td>1</td>\n",
       "      <td>i finally did something to learn.   type A,typ...</td>\n",
       "      <td>1</td>\n",
       "      <td>3</td>\n",
       "      <td>i finally did something to learn. type A,type ...</td>\n",
       "      <td>1294</td>\n",
       "      <td>en</td>\n",
       "    </tr>\n",
       "    <tr>\n",
       "      <td>25267</td>\n",
       "      <td>0</td>\n",
       "      <td>This article is about the cat species that is ...</td>\n",
       "      <td>3</td>\n",
       "      <td>4</td>\n",
       "      <td>This article is about the cat species that is ...</td>\n",
       "      <td>856</td>\n",
       "      <td>en</td>\n",
       "    </tr>\n",
       "    <tr>\n",
       "      <td>161852</td>\n",
       "      <td>1</td>\n",
       "      <td>Ahhh! Such a beautiful day, uh (yea) The sun’s...</td>\n",
       "      <td>4</td>\n",
       "      <td>3</td>\n",
       "      <td>Ahoy! Such a beautiful day, uh (yea) The sun’s...</td>\n",
       "      <td>787</td>\n",
       "      <td>en</td>\n",
       "    </tr>\n",
       "  </tbody>\n",
       "</table>\n",
       "</div>"
      ],
      "text/plain": [
       "        UseCase                                            content  \\\n",
       "122266        0  Bee Movie Script - Dialogue Transcript Voila! ...   \n",
       "147563        1  second semester i will work on paying more att...   \n",
       "158969        1  i finally did something to learn.   type A,typ...   \n",
       "25267         0  This article is about the cat species that is ...   \n",
       "161852        1  Ahhh! Such a beautiful day, uh (yea) The sun’s...   \n",
       "\n",
       "        top_1_score  top_2_score  \\\n",
       "122266            4            3   \n",
       "147563            3            4   \n",
       "158969            1            3   \n",
       "25267             3            4   \n",
       "161852            4            3   \n",
       "\n",
       "                                        Corrected_content  word_counts lang  \n",
       "122266  Bee Movie Script - Dialogged Transcript Viola!...        12747   en  \n",
       "147563  second semester i will work on paying more att...         2785   so  \n",
       "158969  i finally did something to learn. type A,type ...         1294   en  \n",
       "25267   This article is about the cat species that is ...          856   en  \n",
       "161852  Ahoy! Such a beautiful day, uh (yea) The sun’s...          787   en  "
      ]
     },
     "execution_count": 116,
     "metadata": {},
     "output_type": "execute_result"
    }
   ],
   "source": [
    "#reflections are sorted based on their number of words\n",
    "data_new= data.sort_values('word_counts', ascending=False)\n",
    "#data_new.head()\n"
   ]
  },
  {
   "cell_type": "markdown",
   "metadata": {},
   "source": [
    "I read the first 25 refelections which had the highest number of the words and noticed that most of them cotain irrelevant content inclduing a movie script."
   ]
  },
  {
   "cell_type": "code",
   "execution_count": 117,
   "metadata": {},
   "outputs": [],
   "source": [
    "#list of the index that identified as irrelevant content:\n",
    "list_to_removed = [122266, 147563, 158969, 25267,161852, 43573, 30258, 95833, 37911, 25318, 124847, 97110, 25298, 93031, 39079, \n",
    "                   106633, 92032, 50680, 128034]"
   ]
  },
  {
   "cell_type": "code",
   "execution_count": 118,
   "metadata": {},
   "outputs": [
    {
     "data": {
      "text/html": [
       "<div>\n",
       "<style scoped>\n",
       "    .dataframe tbody tr th:only-of-type {\n",
       "        vertical-align: middle;\n",
       "    }\n",
       "\n",
       "    .dataframe tbody tr th {\n",
       "        vertical-align: top;\n",
       "    }\n",
       "\n",
       "    .dataframe thead th {\n",
       "        text-align: right;\n",
       "    }\n",
       "</style>\n",
       "<table border=\"1\" class=\"dataframe\">\n",
       "  <thead>\n",
       "    <tr style=\"text-align: right;\">\n",
       "      <th></th>\n",
       "      <th>UseCase</th>\n",
       "      <th>content</th>\n",
       "      <th>top_1_score</th>\n",
       "      <th>top_2_score</th>\n",
       "      <th>Corrected_content</th>\n",
       "      <th>word_counts</th>\n",
       "      <th>lang</th>\n",
       "    </tr>\n",
       "  </thead>\n",
       "  <tbody>\n",
       "    <tr>\n",
       "      <td>161835</td>\n",
       "      <td>1</td>\n",
       "      <td>I will take notes and not talk. I will pay att...</td>\n",
       "      <td>2</td>\n",
       "      <td>3</td>\n",
       "      <td>I will take notes and not talk. I will pay att...</td>\n",
       "      <td>703</td>\n",
       "      <td>en</td>\n",
       "    </tr>\n",
       "    <tr>\n",
       "      <td>153306</td>\n",
       "      <td>1</td>\n",
       "      <td>I understand sense we do these notes it hel...</td>\n",
       "      <td>4</td>\n",
       "      <td>3</td>\n",
       "      <td>I understand sense we do these notes it helps ...</td>\n",
       "      <td>634</td>\n",
       "      <td>en</td>\n",
       "    </tr>\n",
       "    <tr>\n",
       "      <td>166028</td>\n",
       "      <td>1</td>\n",
       "      <td>Over the course of the six weeks, I was consta...</td>\n",
       "      <td>4</td>\n",
       "      <td>3</td>\n",
       "      <td>Over the course of the six weeks, I was consta...</td>\n",
       "      <td>566</td>\n",
       "      <td>en</td>\n",
       "    </tr>\n",
       "    <tr>\n",
       "      <td>145501</td>\n",
       "      <td>1</td>\n",
       "      <td>I feel like I made my best improvements in exp...</td>\n",
       "      <td>3</td>\n",
       "      <td>4</td>\n",
       "      <td>I feel like I made my best improvements in exp...</td>\n",
       "      <td>407</td>\n",
       "      <td>en</td>\n",
       "    </tr>\n",
       "    <tr>\n",
       "      <td>28786</td>\n",
       "      <td>0</td>\n",
       "      <td>*The knowledge checks and quizzes prepared me...</td>\n",
       "      <td>4</td>\n",
       "      <td>3</td>\n",
       "      <td>*The knowledge checks and quizzes prepared me ...</td>\n",
       "      <td>403</td>\n",
       "      <td>en</td>\n",
       "    </tr>\n",
       "  </tbody>\n",
       "</table>\n",
       "</div>"
      ],
      "text/plain": [
       "        UseCase                                            content  \\\n",
       "161835        1  I will take notes and not talk. I will pay att...   \n",
       "153306        1     I understand sense we do these notes it hel...   \n",
       "166028        1  Over the course of the six weeks, I was consta...   \n",
       "145501        1  I feel like I made my best improvements in exp...   \n",
       "28786         0   *The knowledge checks and quizzes prepared me...   \n",
       "\n",
       "        top_1_score  top_2_score  \\\n",
       "161835            2            3   \n",
       "153306            4            3   \n",
       "166028            4            3   \n",
       "145501            3            4   \n",
       "28786             4            3   \n",
       "\n",
       "                                        Corrected_content  word_counts lang  \n",
       "161835  I will take notes and not talk. I will pay att...          703   en  \n",
       "153306  I understand sense we do these notes it helps ...          634   en  \n",
       "166028  Over the course of the six weeks, I was consta...          566   en  \n",
       "145501  I feel like I made my best improvements in exp...          407   en  \n",
       "28786   *The knowledge checks and quizzes prepared me ...          403   en  "
      ]
     },
     "execution_count": 118,
     "metadata": {},
     "output_type": "execute_result"
    }
   ],
   "source": [
    "#rows with irrelevant content are removed\n",
    "data_new.drop(list_to_removed, inplace = True)\n",
    "data_new.head()"
   ]
  },
  {
   "cell_type": "code",
   "execution_count": 120,
   "metadata": {},
   "outputs": [
    {
     "data": {
      "text/plain": [
       "(104331, 7)"
      ]
     },
     "execution_count": 120,
     "metadata": {},
     "output_type": "execute_result"
    }
   ],
   "source": [
    "data_new.shape"
   ]
  },
  {
   "cell_type": "code",
   "execution_count": 122,
   "metadata": {},
   "outputs": [
    {
     "data": {
      "text/plain": [
       "(104221, 7)"
      ]
     },
     "execution_count": 122,
     "metadata": {},
     "output_type": "execute_result"
    }
   ],
   "source": [
    "#row of data with non-English content removed\n",
    "data_newer = data_new.drop(data_new[(data_new.lang =='es')].index)\n",
    "data_newer.shape"
   ]
  },
  {
   "cell_type": "code",
   "execution_count": 135,
   "metadata": {},
   "outputs": [],
   "source": [
    "#data_newer.head()"
   ]
  },
  {
   "cell_type": "code",
   "execution_count": 131,
   "metadata": {
    "scrolled": false
   },
   "outputs": [
    {
     "data": {
      "text/html": [
       "<div>\n",
       "<style scoped>\n",
       "    .dataframe tbody tr th:only-of-type {\n",
       "        vertical-align: middle;\n",
       "    }\n",
       "\n",
       "    .dataframe tbody tr th {\n",
       "        vertical-align: top;\n",
       "    }\n",
       "\n",
       "    .dataframe thead th {\n",
       "        text-align: right;\n",
       "    }\n",
       "</style>\n",
       "<table border=\"1\" class=\"dataframe\">\n",
       "  <thead>\n",
       "    <tr style=\"text-align: right;\">\n",
       "      <th></th>\n",
       "      <th>UseCase</th>\n",
       "      <th>content</th>\n",
       "      <th>top_1_score</th>\n",
       "      <th>top_2_score</th>\n",
       "      <th>Corrected_content</th>\n",
       "      <th>word_counts</th>\n",
       "      <th>lang</th>\n",
       "    </tr>\n",
       "  </thead>\n",
       "  <tbody>\n",
       "    <tr>\n",
       "      <td>0</td>\n",
       "      <td>1</td>\n",
       "      <td>I will take notes and not talk. I will pay att...</td>\n",
       "      <td>2</td>\n",
       "      <td>3</td>\n",
       "      <td>I will take notes and not talk. I will pay att...</td>\n",
       "      <td>703</td>\n",
       "      <td>en</td>\n",
       "    </tr>\n",
       "    <tr>\n",
       "      <td>1</td>\n",
       "      <td>1</td>\n",
       "      <td>I understand sense we do these notes it hel...</td>\n",
       "      <td>4</td>\n",
       "      <td>3</td>\n",
       "      <td>I understand sense we do these notes it helps ...</td>\n",
       "      <td>634</td>\n",
       "      <td>en</td>\n",
       "    </tr>\n",
       "    <tr>\n",
       "      <td>2</td>\n",
       "      <td>1</td>\n",
       "      <td>Over the course of the six weeks, I was consta...</td>\n",
       "      <td>4</td>\n",
       "      <td>3</td>\n",
       "      <td>Over the course of the six weeks, I was consta...</td>\n",
       "      <td>566</td>\n",
       "      <td>en</td>\n",
       "    </tr>\n",
       "    <tr>\n",
       "      <td>3</td>\n",
       "      <td>1</td>\n",
       "      <td>I feel like I made my best improvements in exp...</td>\n",
       "      <td>3</td>\n",
       "      <td>4</td>\n",
       "      <td>I feel like I made my best improvements in exp...</td>\n",
       "      <td>407</td>\n",
       "      <td>en</td>\n",
       "    </tr>\n",
       "    <tr>\n",
       "      <td>4</td>\n",
       "      <td>0</td>\n",
       "      <td>*The knowledge checks and quizzes prepared me...</td>\n",
       "      <td>4</td>\n",
       "      <td>3</td>\n",
       "      <td>*The knowledge checks and quizzes prepared me ...</td>\n",
       "      <td>403</td>\n",
       "      <td>en</td>\n",
       "    </tr>\n",
       "    <tr>\n",
       "      <td>...</td>\n",
       "      <td>...</td>\n",
       "      <td>...</td>\n",
       "      <td>...</td>\n",
       "      <td>...</td>\n",
       "      <td>...</td>\n",
       "      <td>...</td>\n",
       "      <td>...</td>\n",
       "    </tr>\n",
       "    <tr>\n",
       "      <td>104216</td>\n",
       "      <td>0</td>\n",
       "      <td>re-read the question</td>\n",
       "      <td>2</td>\n",
       "      <td>3</td>\n",
       "      <td>re-read the question</td>\n",
       "      <td>3</td>\n",
       "      <td>en</td>\n",
       "    </tr>\n",
       "    <tr>\n",
       "      <td>104217</td>\n",
       "      <td>0</td>\n",
       "      <td>the questions</td>\n",
       "      <td>2</td>\n",
       "      <td>3</td>\n",
       "      <td>the questions</td>\n",
       "      <td>2</td>\n",
       "      <td>fr</td>\n",
       "    </tr>\n",
       "    <tr>\n",
       "      <td>104218</td>\n",
       "      <td>0</td>\n",
       "      <td>the questions</td>\n",
       "      <td>2</td>\n",
       "      <td>3</td>\n",
       "      <td>the questions</td>\n",
       "      <td>2</td>\n",
       "      <td>fr</td>\n",
       "    </tr>\n",
       "    <tr>\n",
       "      <td>104219</td>\n",
       "      <td>1</td>\n",
       "      <td>asked questions</td>\n",
       "      <td>2</td>\n",
       "      <td>3</td>\n",
       "      <td>asked questions</td>\n",
       "      <td>2</td>\n",
       "      <td>fr</td>\n",
       "    </tr>\n",
       "    <tr>\n",
       "      <td>104220</td>\n",
       "      <td>0</td>\n",
       "      <td>I.will.identify.the.setting.next.time</td>\n",
       "      <td>2</td>\n",
       "      <td>3</td>\n",
       "      <td>I.will.identify.the.setting.next.time</td>\n",
       "      <td>1</td>\n",
       "      <td>en</td>\n",
       "    </tr>\n",
       "  </tbody>\n",
       "</table>\n",
       "<p>104221 rows × 7 columns</p>\n",
       "</div>"
      ],
      "text/plain": [
       "        UseCase                                            content  \\\n",
       "0             1  I will take notes and not talk. I will pay att...   \n",
       "1             1     I understand sense we do these notes it hel...   \n",
       "2             1  Over the course of the six weeks, I was consta...   \n",
       "3             1  I feel like I made my best improvements in exp...   \n",
       "4             0   *The knowledge checks and quizzes prepared me...   \n",
       "...         ...                                                ...   \n",
       "104216        0                               re-read the question   \n",
       "104217        0                                      the questions   \n",
       "104218        0                                     the questions    \n",
       "104219        1                                    asked questions   \n",
       "104220        0              I.will.identify.the.setting.next.time   \n",
       "\n",
       "        top_1_score  top_2_score  \\\n",
       "0                 2            3   \n",
       "1                 4            3   \n",
       "2                 4            3   \n",
       "3                 3            4   \n",
       "4                 4            3   \n",
       "...             ...          ...   \n",
       "104216            2            3   \n",
       "104217            2            3   \n",
       "104218            2            3   \n",
       "104219            2            3   \n",
       "104220            2            3   \n",
       "\n",
       "                                        Corrected_content  word_counts lang  \n",
       "0       I will take notes and not talk. I will pay att...          703   en  \n",
       "1       I understand sense we do these notes it helps ...          634   en  \n",
       "2       Over the course of the six weeks, I was consta...          566   en  \n",
       "3       I feel like I made my best improvements in exp...          407   en  \n",
       "4       *The knowledge checks and quizzes prepared me ...          403   en  \n",
       "...                                                   ...          ...  ...  \n",
       "104216                               re-read the question            3   en  \n",
       "104217                                      the questions            2   fr  \n",
       "104218                                      the questions            2   fr  \n",
       "104219                                    asked questions            2   fr  \n",
       "104220              I.will.identify.the.setting.next.time            1   en  \n",
       "\n",
       "[104221 rows x 7 columns]"
      ]
     },
     "execution_count": 131,
     "metadata": {},
     "output_type": "execute_result"
    }
   ],
   "source": [
    "data_newer.reset_index(drop=True)"
   ]
  },
  {
   "cell_type": "code",
   "execution_count": 136,
   "metadata": {},
   "outputs": [],
   "source": [
    "#new dataframe from cleaned data saved as 'final_cleaned_data'\n",
    "data_newer.to_csv('final_cleaned_data')"
   ]
  },
  {
   "cell_type": "markdown",
   "metadata": {},
   "source": [
    "# Extracting the reflections with scores 3 or 4\n",
    "As these refelctions are expected to have richer content in terms of the topics of learning strategies."
   ]
  },
  {
   "cell_type": "code",
   "execution_count": 150,
   "metadata": {},
   "outputs": [],
   "source": [
    "cleaned_data = pd.read_csv('final_cleaned_data')\n",
    "#cleaned_data.tail()"
   ]
  },
  {
   "cell_type": "code",
   "execution_count": 138,
   "metadata": {},
   "outputs": [],
   "source": [
    "cleaned_data['average_score'] = (cleaned_data['top_1_score'] + cleaned_data['top_2_score'])/2"
   ]
  },
  {
   "cell_type": "code",
   "execution_count": 140,
   "metadata": {},
   "outputs": [],
   "source": [
    "is_highest = cleaned_data['average_score']==3.5 "
   ]
  },
  {
   "cell_type": "code",
   "execution_count": 141,
   "metadata": {},
   "outputs": [],
   "source": [
    "data_highest=cleaned_data[is_highest]"
   ]
  },
  {
   "cell_type": "code",
   "execution_count": 148,
   "metadata": {},
   "outputs": [],
   "source": [
    "#data_highest.count()"
   ]
  },
  {
   "cell_type": "code",
   "execution_count": 147,
   "metadata": {},
   "outputs": [],
   "source": [
    "#data_highest.info()"
   ]
  },
  {
   "cell_type": "code",
   "execution_count": 146,
   "metadata": {},
   "outputs": [],
   "source": [
    "data_highest_new = data_highest.drop(['Unnamed: 0', 'UseCase'], axis = 1)\n",
    "#data_highest_new.head()"
   ]
  },
  {
   "cell_type": "code",
   "execution_count": 145,
   "metadata": {},
   "outputs": [],
   "source": [
    "data_highest_new.to_csv('highest_cleaned')"
   ]
  },
  {
   "cell_type": "markdown",
   "metadata": {},
   "source": [
    " a dataframe form cleaned and spell corrected refelctions with average score of 3.5 saved as 'highest_cleaned'\n",
    " which later on will be used for topic modeling"
   ]
  }
 ],
 "metadata": {
  "kernelspec": {
   "display_name": "Python 3",
   "language": "python",
   "name": "python3"
  },
  "language_info": {
   "codemirror_mode": {
    "name": "ipython",
    "version": 3
   },
   "file_extension": ".py",
   "mimetype": "text/x-python",
   "name": "python",
   "nbconvert_exporter": "python",
   "pygments_lexer": "ipython3",
   "version": "3.7.3"
  }
 },
 "nbformat": 4,
 "nbformat_minor": 2
}
