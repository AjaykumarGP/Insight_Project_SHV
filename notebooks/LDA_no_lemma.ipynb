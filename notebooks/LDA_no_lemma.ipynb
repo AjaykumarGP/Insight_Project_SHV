{
 "cells": [
  {
   "cell_type": "code",
   "execution_count": 1,
   "metadata": {
    "collapsed": true
   },
   "outputs": [],
   "source": [
    "# Importing modules\n",
    "\n",
    "import pandas as pd\n",
    "from pandas.api.types import is_string_dtype\n",
    "import re\n",
    "import sklearn\n",
    "from nltk.tokenize import word_tokenize\n",
    "from nltk.corpus import stopwords\n",
    "from gensim import corpora\n",
    "from nltk.corpus import wordnet\n",
    "import numpy as np\n",
    "from gensim.models import TfidfModel\n",
    "from gensim import similarities\n",
    "import matplotlib.pyplot as plt\n",
    "from scipy.cluster import hierarchy\n",
    "from nltk.stem.wordnet import WordNetLemmatizer\n",
    "import seaborn as sns"
   ]
  },
  {
   "cell_type": "code",
   "execution_count": 2,
   "metadata": {
    "collapsed": true
   },
   "outputs": [],
   "source": [
    "reflections = pd.read_csv('StudentReflectionStrategy.csv')"
   ]
  },
  {
   "cell_type": "code",
   "execution_count": 3,
   "metadata": {
    "collapsed": true
   },
   "outputs": [],
   "source": [
    "reflections.drop_duplicates(subset =[\"content\"], \n",
    "                     keep = 'first', inplace = True)"
   ]
  },
  {
   "cell_type": "code",
   "execution_count": 4,
   "metadata": {
    "collapsed": true
   },
   "outputs": [],
   "source": [
    "is_4 = reflections['top_1_score']==4\n"
   ]
  },
  {
   "cell_type": "code",
   "execution_count": 5,
   "metadata": {
    "collapsed": true
   },
   "outputs": [],
   "source": [
    "ref_score1_4=reflections[is_4]"
   ]
  },
  {
   "cell_type": "code",
   "execution_count": 6,
   "metadata": {},
   "outputs": [
    {
     "data": {
      "text/plain": [
       "UseCase        3597\n",
       "content        3597\n",
       "top_1_score    3597\n",
       "top_2_score    3597\n",
       "dtype: int64"
      ]
     },
     "execution_count": 6,
     "metadata": {},
     "output_type": "execute_result"
    }
   ],
   "source": [
    "ref_score1_4.count()"
   ]
  },
  {
   "cell_type": "code",
   "execution_count": 7,
   "metadata": {},
   "outputs": [
    {
     "data": {
      "text/html": [
       "<div>\n",
       "<table border=\"1\" class=\"dataframe\">\n",
       "  <thead>\n",
       "    <tr style=\"text-align: right;\">\n",
       "      <th></th>\n",
       "      <th>UseCase</th>\n",
       "      <th>content</th>\n",
       "      <th>top_1_score</th>\n",
       "      <th>top_2_score</th>\n",
       "    </tr>\n",
       "  </thead>\n",
       "  <tbody>\n",
       "    <tr>\n",
       "      <th>351</th>\n",
       "      <td>0</td>\n",
       "      <td>my strategies are to work hard and to meat my ...</td>\n",
       "      <td>4</td>\n",
       "      <td>3</td>\n",
       "    </tr>\n",
       "    <tr>\n",
       "      <th>357</th>\n",
       "      <td>0</td>\n",
       "      <td>If I did not know the meaning of any of the wo...</td>\n",
       "      <td>4</td>\n",
       "      <td>3</td>\n",
       "    </tr>\n",
       "    <tr>\n",
       "      <th>359</th>\n",
       "      <td>0</td>\n",
       "      <td>I feel good about this.  I mixed up two answer...</td>\n",
       "      <td>4</td>\n",
       "      <td>2</td>\n",
       "    </tr>\n",
       "    <tr>\n",
       "      <th>962</th>\n",
       "      <td>0</td>\n",
       "      <td>i wasn't rushing and i was taking my time and ...</td>\n",
       "      <td>4</td>\n",
       "      <td>0</td>\n",
       "    </tr>\n",
       "    <tr>\n",
       "      <th>1134</th>\n",
       "      <td>0</td>\n",
       "      <td>12.8 points currently i dont have any points  ...</td>\n",
       "      <td>4</td>\n",
       "      <td>3</td>\n",
       "    </tr>\n",
       "  </tbody>\n",
       "</table>\n",
       "</div>"
      ],
      "text/plain": [
       "      UseCase                                            content  top_1_score  \\\n",
       "351         0  my strategies are to work hard and to meat my ...            4   \n",
       "357         0  If I did not know the meaning of any of the wo...            4   \n",
       "359         0  I feel good about this.  I mixed up two answer...            4   \n",
       "962         0  i wasn't rushing and i was taking my time and ...            4   \n",
       "1134        0  12.8 points currently i dont have any points  ...            4   \n",
       "\n",
       "      top_2_score  \n",
       "351             3  \n",
       "357             3  \n",
       "359             2  \n",
       "962             0  \n",
       "1134            3  "
      ]
     },
     "execution_count": 7,
     "metadata": {},
     "output_type": "execute_result"
    }
   ],
   "source": [
    "ref_score1_4.head()"
   ]
  },
  {
   "cell_type": "code",
   "execution_count": 8,
   "metadata": {},
   "outputs": [
    {
     "data": {
      "text/html": [
       "<div>\n",
       "<table border=\"1\" class=\"dataframe\">\n",
       "  <thead>\n",
       "    <tr style=\"text-align: right;\">\n",
       "      <th></th>\n",
       "      <th>UseCase</th>\n",
       "      <th>content</th>\n",
       "      <th>top_1_score</th>\n",
       "      <th>top_2_score</th>\n",
       "    </tr>\n",
       "  </thead>\n",
       "  <tbody>\n",
       "    <tr>\n",
       "      <th>351</th>\n",
       "      <td>0</td>\n",
       "      <td>my strategies are to work hard and to meat my ...</td>\n",
       "      <td>4</td>\n",
       "      <td>3</td>\n",
       "    </tr>\n",
       "    <tr>\n",
       "      <th>357</th>\n",
       "      <td>0</td>\n",
       "      <td>If I did not know the meaning of any of the wo...</td>\n",
       "      <td>4</td>\n",
       "      <td>3</td>\n",
       "    </tr>\n",
       "    <tr>\n",
       "      <th>359</th>\n",
       "      <td>0</td>\n",
       "      <td>I feel good about this.  I mixed up two answer...</td>\n",
       "      <td>4</td>\n",
       "      <td>2</td>\n",
       "    </tr>\n",
       "    <tr>\n",
       "      <th>962</th>\n",
       "      <td>0</td>\n",
       "      <td>i wasn't rushing and i was taking my time and ...</td>\n",
       "      <td>4</td>\n",
       "      <td>0</td>\n",
       "    </tr>\n",
       "    <tr>\n",
       "      <th>1134</th>\n",
       "      <td>0</td>\n",
       "      <td>12.8 points currently i dont have any points  ...</td>\n",
       "      <td>4</td>\n",
       "      <td>3</td>\n",
       "    </tr>\n",
       "    <tr>\n",
       "      <th>1481</th>\n",
       "      <td>0</td>\n",
       "      <td>In the assesment, I trid really hard, and I fe...</td>\n",
       "      <td>4</td>\n",
       "      <td>3</td>\n",
       "    </tr>\n",
       "    <tr>\n",
       "      <th>1528</th>\n",
       "      <td>0</td>\n",
       "      <td>My goal is 16.5 points i haven't scored any ye...</td>\n",
       "      <td>4</td>\n",
       "      <td>0</td>\n",
       "    </tr>\n",
       "    <tr>\n",
       "      <th>1650</th>\n",
       "      <td>0</td>\n",
       "      <td>last term i had a bad grade in science but thi...</td>\n",
       "      <td>4</td>\n",
       "      <td>3</td>\n",
       "    </tr>\n",
       "    <tr>\n",
       "      <th>1685</th>\n",
       "      <td>0</td>\n",
       "      <td>I will Keep my notebook more organized by doin...</td>\n",
       "      <td>4</td>\n",
       "      <td>3</td>\n",
       "    </tr>\n",
       "    <tr>\n",
       "      <th>1794</th>\n",
       "      <td>0</td>\n",
       "      <td>I achieved my goal by just... reading when I c...</td>\n",
       "      <td>4</td>\n",
       "      <td>3</td>\n",
       "    </tr>\n",
       "    <tr>\n",
       "      <th>2092</th>\n",
       "      <td>0</td>\n",
       "      <td>This is one of my biggest goals is to read mor...</td>\n",
       "      <td>4</td>\n",
       "      <td>3</td>\n",
       "    </tr>\n",
       "    <tr>\n",
       "      <th>2112</th>\n",
       "      <td>0</td>\n",
       "      <td>My goal was to not distract others. I think I ...</td>\n",
       "      <td>4</td>\n",
       "      <td>3</td>\n",
       "    </tr>\n",
       "    <tr>\n",
       "      <th>2146</th>\n",
       "      <td>0</td>\n",
       "      <td>I think that by having this as one of my goals...</td>\n",
       "      <td>4</td>\n",
       "      <td>3</td>\n",
       "    </tr>\n",
       "    <tr>\n",
       "      <th>2172</th>\n",
       "      <td>0</td>\n",
       "      <td>What i did to achieve my goal was to make sure...</td>\n",
       "      <td>4</td>\n",
       "      <td>2</td>\n",
       "    </tr>\n",
       "    <tr>\n",
       "      <th>2180</th>\n",
       "      <td>0</td>\n",
       "      <td>I think that i met my goal because i was not s...</td>\n",
       "      <td>4</td>\n",
       "      <td>0</td>\n",
       "    </tr>\n",
       "    <tr>\n",
       "      <th>2311</th>\n",
       "      <td>0</td>\n",
       "      <td>I finished the project in the period of time g...</td>\n",
       "      <td>4</td>\n",
       "      <td>3</td>\n",
       "    </tr>\n",
       "    <tr>\n",
       "      <th>2313</th>\n",
       "      <td>0</td>\n",
       "      <td>i think i met this goal because i worked hard ...</td>\n",
       "      <td>4</td>\n",
       "      <td>0</td>\n",
       "    </tr>\n",
       "    <tr>\n",
       "      <th>2327</th>\n",
       "      <td>0</td>\n",
       "      <td>i got a four on this because i think that i an...</td>\n",
       "      <td>4</td>\n",
       "      <td>3</td>\n",
       "    </tr>\n",
       "    <tr>\n",
       "      <th>2416</th>\n",
       "      <td>0</td>\n",
       "      <td>I made sure to check the academic calendar eve...</td>\n",
       "      <td>4</td>\n",
       "      <td>3</td>\n",
       "    </tr>\n",
       "    <tr>\n",
       "      <th>2469</th>\n",
       "      <td>0</td>\n",
       "      <td>What i did to achieve my goal was that i just ...</td>\n",
       "      <td>4</td>\n",
       "      <td>3</td>\n",
       "    </tr>\n",
       "  </tbody>\n",
       "</table>\n",
       "</div>"
      ],
      "text/plain": [
       "      UseCase                                            content  top_1_score  \\\n",
       "351         0  my strategies are to work hard and to meat my ...            4   \n",
       "357         0  If I did not know the meaning of any of the wo...            4   \n",
       "359         0  I feel good about this.  I mixed up two answer...            4   \n",
       "962         0  i wasn't rushing and i was taking my time and ...            4   \n",
       "1134        0  12.8 points currently i dont have any points  ...            4   \n",
       "1481        0  In the assesment, I trid really hard, and I fe...            4   \n",
       "1528        0  My goal is 16.5 points i haven't scored any ye...            4   \n",
       "1650        0  last term i had a bad grade in science but thi...            4   \n",
       "1685        0  I will Keep my notebook more organized by doin...            4   \n",
       "1794        0  I achieved my goal by just... reading when I c...            4   \n",
       "2092        0  This is one of my biggest goals is to read mor...            4   \n",
       "2112        0  My goal was to not distract others. I think I ...            4   \n",
       "2146        0  I think that by having this as one of my goals...            4   \n",
       "2172        0  What i did to achieve my goal was to make sure...            4   \n",
       "2180        0  I think that i met my goal because i was not s...            4   \n",
       "2311        0  I finished the project in the period of time g...            4   \n",
       "2313        0  i think i met this goal because i worked hard ...            4   \n",
       "2327        0  i got a four on this because i think that i an...            4   \n",
       "2416        0  I made sure to check the academic calendar eve...            4   \n",
       "2469        0  What i did to achieve my goal was that i just ...            4   \n",
       "\n",
       "      top_2_score  \n",
       "351             3  \n",
       "357             3  \n",
       "359             2  \n",
       "962             0  \n",
       "1134            3  \n",
       "1481            3  \n",
       "1528            0  \n",
       "1650            3  \n",
       "1685            3  \n",
       "1794            3  \n",
       "2092            3  \n",
       "2112            3  \n",
       "2146            3  \n",
       "2172            2  \n",
       "2180            0  \n",
       "2311            3  \n",
       "2313            0  \n",
       "2327            3  \n",
       "2416            3  \n",
       "2469            3  "
      ]
     },
     "execution_count": 8,
     "metadata": {},
     "output_type": "execute_result"
    }
   ],
   "source": [
    "ref_score1_4.head(20)"
   ]
  },
  {
   "cell_type": "code",
   "execution_count": 9,
   "metadata": {
    "collapsed": true
   },
   "outputs": [],
   "source": [
    "is_4 = reflections['top_2_score']==4"
   ]
  },
  {
   "cell_type": "code",
   "execution_count": 10,
   "metadata": {
    "collapsed": true
   },
   "outputs": [],
   "source": [
    "ref_score2_4=reflections[is_4]"
   ]
  },
  {
   "cell_type": "code",
   "execution_count": 11,
   "metadata": {},
   "outputs": [
    {
     "data": {
      "text/html": [
       "<div>\n",
       "<table border=\"1\" class=\"dataframe\">\n",
       "  <thead>\n",
       "    <tr style=\"text-align: right;\">\n",
       "      <th></th>\n",
       "      <th>UseCase</th>\n",
       "      <th>content</th>\n",
       "      <th>top_1_score</th>\n",
       "      <th>top_2_score</th>\n",
       "    </tr>\n",
       "  </thead>\n",
       "  <tbody>\n",
       "    <tr>\n",
       "      <th>37</th>\n",
       "      <td>0</td>\n",
       "      <td>I feel confident with this material. I got one...</td>\n",
       "      <td>3</td>\n",
       "      <td>4</td>\n",
       "    </tr>\n",
       "    <tr>\n",
       "      <th>51</th>\n",
       "      <td>0</td>\n",
       "      <td>everything that we did during the 1st six week...</td>\n",
       "      <td>3</td>\n",
       "      <td>4</td>\n",
       "    </tr>\n",
       "    <tr>\n",
       "      <th>111</th>\n",
       "      <td>0</td>\n",
       "      <td>The concepts on the exam were everything we le...</td>\n",
       "      <td>3</td>\n",
       "      <td>4</td>\n",
       "    </tr>\n",
       "    <tr>\n",
       "      <th>116</th>\n",
       "      <td>0</td>\n",
       "      <td>What I did to achieve my goal was to not give ...</td>\n",
       "      <td>3</td>\n",
       "      <td>4</td>\n",
       "    </tr>\n",
       "    <tr>\n",
       "      <th>123</th>\n",
       "      <td>0</td>\n",
       "      <td>This week we worked on editing our realistic f...</td>\n",
       "      <td>3</td>\n",
       "      <td>4</td>\n",
       "    </tr>\n",
       "    <tr>\n",
       "      <th>173</th>\n",
       "      <td>0</td>\n",
       "      <td>reread the text and i will go back in the text...</td>\n",
       "      <td>3</td>\n",
       "      <td>4</td>\n",
       "    </tr>\n",
       "    <tr>\n",
       "      <th>182</th>\n",
       "      <td>0</td>\n",
       "      <td>For graphing an equation you must have a good ...</td>\n",
       "      <td>3</td>\n",
       "      <td>4</td>\n",
       "    </tr>\n",
       "    <tr>\n",
       "      <th>238</th>\n",
       "      <td>0</td>\n",
       "      <td>This week I kept my pieces organized because I...</td>\n",
       "      <td>3</td>\n",
       "      <td>4</td>\n",
       "    </tr>\n",
       "    <tr>\n",
       "      <th>258</th>\n",
       "      <td>0</td>\n",
       "      <td>My goal for today was to finish the base of th...</td>\n",
       "      <td>3</td>\n",
       "      <td>4</td>\n",
       "    </tr>\n",
       "    <tr>\n",
       "      <th>283</th>\n",
       "      <td>0</td>\n",
       "      <td>I understood the problem and listened to my te...</td>\n",
       "      <td>3</td>\n",
       "      <td>4</td>\n",
       "    </tr>\n",
       "    <tr>\n",
       "      <th>292</th>\n",
       "      <td>0</td>\n",
       "      <td>The activity that helped me the most was the 2...</td>\n",
       "      <td>3</td>\n",
       "      <td>4</td>\n",
       "    </tr>\n",
       "    <tr>\n",
       "      <th>319</th>\n",
       "      <td>0</td>\n",
       "      <td>Our group split up the work and managed to get...</td>\n",
       "      <td>3</td>\n",
       "      <td>4</td>\n",
       "    </tr>\n",
       "    <tr>\n",
       "      <th>325</th>\n",
       "      <td>0</td>\n",
       "      <td>Today, my partner and I will start working on ...</td>\n",
       "      <td>3</td>\n",
       "      <td>4</td>\n",
       "    </tr>\n",
       "    <tr>\n",
       "      <th>342</th>\n",
       "      <td>0</td>\n",
       "      <td>I have definitely tried to look at the writing...</td>\n",
       "      <td>3</td>\n",
       "      <td>4</td>\n",
       "    </tr>\n",
       "    <tr>\n",
       "      <th>347</th>\n",
       "      <td>0</td>\n",
       "      <td>The concept that were on this exam were scient...</td>\n",
       "      <td>3</td>\n",
       "      <td>4</td>\n",
       "    </tr>\n",
       "    <tr>\n",
       "      <th>348</th>\n",
       "      <td>0</td>\n",
       "      <td>Everything that we learned in the six weeks is...</td>\n",
       "      <td>3</td>\n",
       "      <td>4</td>\n",
       "    </tr>\n",
       "    <tr>\n",
       "      <th>388</th>\n",
       "      <td>0</td>\n",
       "      <td>The concepts on the exam were scientific notat...</td>\n",
       "      <td>3</td>\n",
       "      <td>4</td>\n",
       "    </tr>\n",
       "    <tr>\n",
       "      <th>389</th>\n",
       "      <td>0</td>\n",
       "      <td>I knew everything and studied to prepare. I kn...</td>\n",
       "      <td>3</td>\n",
       "      <td>4</td>\n",
       "    </tr>\n",
       "    <tr>\n",
       "      <th>408</th>\n",
       "      <td>0</td>\n",
       "      <td>The concepts were everything we learned throug...</td>\n",
       "      <td>3</td>\n",
       "      <td>4</td>\n",
       "    </tr>\n",
       "    <tr>\n",
       "      <th>416</th>\n",
       "      <td>0</td>\n",
       "      <td>The concept of the quiz was basically everythi...</td>\n",
       "      <td>3</td>\n",
       "      <td>4</td>\n",
       "    </tr>\n",
       "  </tbody>\n",
       "</table>\n",
       "</div>"
      ],
      "text/plain": [
       "     UseCase                                            content  top_1_score  \\\n",
       "37         0  I feel confident with this material. I got one...            3   \n",
       "51         0  everything that we did during the 1st six week...            3   \n",
       "111        0  The concepts on the exam were everything we le...            3   \n",
       "116        0  What I did to achieve my goal was to not give ...            3   \n",
       "123        0  This week we worked on editing our realistic f...            3   \n",
       "173        0  reread the text and i will go back in the text...            3   \n",
       "182        0  For graphing an equation you must have a good ...            3   \n",
       "238        0  This week I kept my pieces organized because I...            3   \n",
       "258        0  My goal for today was to finish the base of th...            3   \n",
       "283        0  I understood the problem and listened to my te...            3   \n",
       "292        0  The activity that helped me the most was the 2...            3   \n",
       "319        0  Our group split up the work and managed to get...            3   \n",
       "325        0  Today, my partner and I will start working on ...            3   \n",
       "342        0  I have definitely tried to look at the writing...            3   \n",
       "347        0  The concept that were on this exam were scient...            3   \n",
       "348        0  Everything that we learned in the six weeks is...            3   \n",
       "388        0  The concepts on the exam were scientific notat...            3   \n",
       "389        0  I knew everything and studied to prepare. I kn...            3   \n",
       "408        0  The concepts were everything we learned throug...            3   \n",
       "416        0  The concept of the quiz was basically everythi...            3   \n",
       "\n",
       "     top_2_score  \n",
       "37             4  \n",
       "51             4  \n",
       "111            4  \n",
       "116            4  \n",
       "123            4  \n",
       "173            4  \n",
       "182            4  \n",
       "238            4  \n",
       "258            4  \n",
       "283            4  \n",
       "292            4  \n",
       "319            4  \n",
       "325            4  \n",
       "342            4  \n",
       "347            4  \n",
       "348            4  \n",
       "388            4  \n",
       "389            4  \n",
       "408            4  \n",
       "416            4  "
      ]
     },
     "execution_count": 11,
     "metadata": {},
     "output_type": "execute_result"
    }
   ],
   "source": [
    "ref_score2_4.head(20)"
   ]
  },
  {
   "cell_type": "code",
   "execution_count": 12,
   "metadata": {},
   "outputs": [
    {
     "data": {
      "text/plain": [
       "UseCase        20557\n",
       "content        20557\n",
       "top_1_score    20557\n",
       "top_2_score    20557\n",
       "dtype: int64"
      ]
     },
     "execution_count": 12,
     "metadata": {},
     "output_type": "execute_result"
    }
   ],
   "source": [
    "ref_score2_4.count()"
   ]
  },
  {
   "cell_type": "code",
   "execution_count": 13,
   "metadata": {},
   "outputs": [
    {
     "data": {
      "text/plain": [
       "Int64Index([     0,      1,      2,      3,      4,      5,      6,      7,\n",
       "                 8,      9,\n",
       "            ...\n",
       "            184825, 184826, 184827, 184828, 184829, 184830, 184831, 184832,\n",
       "            184833, 184834],\n",
       "           dtype='int64', length=104350)"
      ]
     },
     "execution_count": 13,
     "metadata": {},
     "output_type": "execute_result"
    }
   ],
   "source": [
    "reflections.index"
   ]
  },
  {
   "cell_type": "code",
   "execution_count": 14,
   "metadata": {
    "collapsed": true
   },
   "outputs": [],
   "source": [
    "reflections['average_score'] = (reflections['top_1_score'] + reflections['top_2_score'])/2"
   ]
  },
  {
   "cell_type": "code",
   "execution_count": 15,
   "metadata": {},
   "outputs": [
    {
     "data": {
      "text/html": [
       "<div>\n",
       "<table border=\"1\" class=\"dataframe\">\n",
       "  <thead>\n",
       "    <tr style=\"text-align: right;\">\n",
       "      <th></th>\n",
       "      <th>UseCase</th>\n",
       "      <th>content</th>\n",
       "      <th>top_1_score</th>\n",
       "      <th>top_2_score</th>\n",
       "      <th>average_score</th>\n",
       "    </tr>\n",
       "  </thead>\n",
       "  <tbody>\n",
       "    <tr>\n",
       "      <th>0</th>\n",
       "      <td>0</td>\n",
       "      <td>I looked back and read all of the problems car...</td>\n",
       "      <td>2</td>\n",
       "      <td>3</td>\n",
       "      <td>2.5</td>\n",
       "    </tr>\n",
       "    <tr>\n",
       "      <th>1</th>\n",
       "      <td>0</td>\n",
       "      <td>I did things like the test told me to do them.</td>\n",
       "      <td>2</td>\n",
       "      <td>3</td>\n",
       "      <td>2.5</td>\n",
       "    </tr>\n",
       "    <tr>\n",
       "      <th>2</th>\n",
       "      <td>0</td>\n",
       "      <td>I took notes in my notebook to study them later.</td>\n",
       "      <td>2</td>\n",
       "      <td>3</td>\n",
       "      <td>2.5</td>\n",
       "    </tr>\n",
       "    <tr>\n",
       "      <th>3</th>\n",
       "      <td>0</td>\n",
       "      <td>looking at the image and drawing it. I am leas...</td>\n",
       "      <td>3</td>\n",
       "      <td>2</td>\n",
       "      <td>2.5</td>\n",
       "    </tr>\n",
       "    <tr>\n",
       "      <th>4</th>\n",
       "      <td>0</td>\n",
       "      <td>I just improved in all of my post-assessments ...</td>\n",
       "      <td>3</td>\n",
       "      <td>2</td>\n",
       "      <td>2.5</td>\n",
       "    </tr>\n",
       "  </tbody>\n",
       "</table>\n",
       "</div>"
      ],
      "text/plain": [
       "   UseCase                                            content  top_1_score  \\\n",
       "0        0  I looked back and read all of the problems car...            2   \n",
       "1        0     I did things like the test told me to do them.            2   \n",
       "2        0   I took notes in my notebook to study them later.            2   \n",
       "3        0  looking at the image and drawing it. I am leas...            3   \n",
       "4        0  I just improved in all of my post-assessments ...            3   \n",
       "\n",
       "   top_2_score  average_score  \n",
       "0            3            2.5  \n",
       "1            3            2.5  \n",
       "2            3            2.5  \n",
       "3            2            2.5  \n",
       "4            2            2.5  "
      ]
     },
     "execution_count": 15,
     "metadata": {},
     "output_type": "execute_result"
    }
   ],
   "source": [
    "reflections.head()"
   ]
  },
  {
   "cell_type": "code",
   "execution_count": 16,
   "metadata": {
    "collapsed": true
   },
   "outputs": [],
   "source": [
    "is_highest = reflections['average_score']==3.5 "
   ]
  },
  {
   "cell_type": "code",
   "execution_count": 17,
   "metadata": {
    "collapsed": true
   },
   "outputs": [],
   "source": [
    "ref_highest=reflections[is_highest]"
   ]
  },
  {
   "cell_type": "code",
   "execution_count": 18,
   "metadata": {},
   "outputs": [
    {
     "data": {
      "text/plain": [
       "UseCase          23166\n",
       "content          23166\n",
       "top_1_score      23166\n",
       "top_2_score      23166\n",
       "average_score    23166\n",
       "dtype: int64"
      ]
     },
     "execution_count": 18,
     "metadata": {},
     "output_type": "execute_result"
    }
   ],
   "source": [
    "ref_highest.count()"
   ]
  },
  {
   "cell_type": "code",
   "execution_count": 19,
   "metadata": {},
   "outputs": [
    {
     "name": "stdout",
     "output_type": "stream",
     "text": [
      "<class 'pandas.core.frame.DataFrame'>\n",
      "Int64Index: 23166 entries, 37 to 184829\n",
      "Data columns (total 5 columns):\n",
      "UseCase          23166 non-null int64\n",
      "content          23166 non-null object\n",
      "top_1_score      23166 non-null int64\n",
      "top_2_score      23166 non-null int64\n",
      "average_score    23166 non-null float64\n",
      "dtypes: float64(1), int64(3), object(1)\n",
      "memory usage: 1.1+ MB\n"
     ]
    }
   ],
   "source": [
    "ref_highest.info()"
   ]
  },
  {
   "cell_type": "code",
   "execution_count": 20,
   "metadata": {},
   "outputs": [
    {
     "data": {
      "text/html": [
       "<div>\n",
       "<table border=\"1\" class=\"dataframe\">\n",
       "  <thead>\n",
       "    <tr style=\"text-align: right;\">\n",
       "      <th></th>\n",
       "      <th>UseCase</th>\n",
       "      <th>content</th>\n",
       "      <th>top_1_score</th>\n",
       "      <th>top_2_score</th>\n",
       "      <th>average_score</th>\n",
       "    </tr>\n",
       "  </thead>\n",
       "  <tbody>\n",
       "    <tr>\n",
       "      <th>37</th>\n",
       "      <td>0</td>\n",
       "      <td>I feel confident with this material. I got one...</td>\n",
       "      <td>3</td>\n",
       "      <td>4</td>\n",
       "      <td>3.5</td>\n",
       "    </tr>\n",
       "    <tr>\n",
       "      <th>51</th>\n",
       "      <td>0</td>\n",
       "      <td>everything that we did during the 1st six week...</td>\n",
       "      <td>3</td>\n",
       "      <td>4</td>\n",
       "      <td>3.5</td>\n",
       "    </tr>\n",
       "    <tr>\n",
       "      <th>111</th>\n",
       "      <td>0</td>\n",
       "      <td>The concepts on the exam were everything we le...</td>\n",
       "      <td>3</td>\n",
       "      <td>4</td>\n",
       "      <td>3.5</td>\n",
       "    </tr>\n",
       "    <tr>\n",
       "      <th>116</th>\n",
       "      <td>0</td>\n",
       "      <td>What I did to achieve my goal was to not give ...</td>\n",
       "      <td>3</td>\n",
       "      <td>4</td>\n",
       "      <td>3.5</td>\n",
       "    </tr>\n",
       "    <tr>\n",
       "      <th>123</th>\n",
       "      <td>0</td>\n",
       "      <td>This week we worked on editing our realistic f...</td>\n",
       "      <td>3</td>\n",
       "      <td>4</td>\n",
       "      <td>3.5</td>\n",
       "    </tr>\n",
       "  </tbody>\n",
       "</table>\n",
       "</div>"
      ],
      "text/plain": [
       "     UseCase                                            content  top_1_score  \\\n",
       "37         0  I feel confident with this material. I got one...            3   \n",
       "51         0  everything that we did during the 1st six week...            3   \n",
       "111        0  The concepts on the exam were everything we le...            3   \n",
       "116        0  What I did to achieve my goal was to not give ...            3   \n",
       "123        0  This week we worked on editing our realistic f...            3   \n",
       "\n",
       "     top_2_score  average_score  \n",
       "37             4            3.5  \n",
       "51             4            3.5  \n",
       "111            4            3.5  \n",
       "116            4            3.5  \n",
       "123            4            3.5  "
      ]
     },
     "execution_count": 20,
     "metadata": {},
     "output_type": "execute_result"
    }
   ],
   "source": [
    "ref_highest.head()"
   ]
  },
  {
   "cell_type": "code",
   "execution_count": 21,
   "metadata": {
    "collapsed": true
   },
   "outputs": [],
   "source": [
    "#ref_highest_content = list(ref_highest['content'])\n",
    "#len(ref_highest_content)"
   ]
  },
  {
   "cell_type": "code",
   "execution_count": 22,
   "metadata": {
    "collapsed": true
   },
   "outputs": [],
   "source": [
    "#ref_highest_index = list(ref_highest.index)\n",
    "#ref_highest_index"
   ]
  },
  {
   "cell_type": "code",
   "execution_count": 23,
   "metadata": {
    "collapsed": true
   },
   "outputs": [],
   "source": [
    "#ref_highest_content"
   ]
  },
  {
   "cell_type": "code",
   "execution_count": 24,
   "metadata": {
    "collapsed": true
   },
   "outputs": [],
   "source": [
    "#ref_alphanum=[re.sub('[\\W_]+', ' ', i) for i in ref_highest_content]"
   ]
  },
  {
   "cell_type": "code",
   "execution_count": 25,
   "metadata": {
    "collapsed": true
   },
   "outputs": [],
   "source": [
    "#len(ref_alphanum)"
   ]
  },
  {
   "cell_type": "code",
   "execution_count": 26,
   "metadata": {
    "collapsed": true
   },
   "outputs": [],
   "source": [
    "#ref_alphanum"
   ]
  },
  {
   "cell_type": "code",
   "execution_count": 27,
   "metadata": {
    "collapsed": true
   },
   "outputs": [],
   "source": [
    "#ref_tokens = []\n",
    "#for i in range(len(ref_alphanum)):\n",
    "    #ref_tokens.append(word_tokenize(i))\n",
    "#len(ref_tokens)"
   ]
  },
  {
   "cell_type": "code",
   "execution_count": 28,
   "metadata": {
    "collapsed": true
   },
   "outputs": [],
   "source": [
    "from gensim.parsing.preprocessing import STOPWORDS\n",
    "from gensim.utils import simple_preprocess\n",
    "from gensim.models import TfidfModel, LsiModel\n",
    "from gensim.models.ldamodel import LdaModel\n",
    "from gensim import corpora\n",
    "from gensim import matutils\n",
    "import matplotlib.pyplot as plt\n",
    "from sklearn.cluster import KMeans\n",
    "from collections import defaultdict\n",
    "import pyLDAvis.gensim as gensimvis\n",
    "import pyLDAvis\n",
    "import pandas as pd\n",
    "import numpy as np\n",
    "import pickle\n",
    "import lda"
   ]
  },
  {
   "cell_type": "code",
   "execution_count": 29,
   "metadata": {
    "collapsed": true
   },
   "outputs": [],
   "source": [
    "def tokenize(text):\n",
    "    return [token for token in simple_preprocess(text) if token not in STOPWORDS]"
   ]
  },
  {
   "cell_type": "code",
   "execution_count": 30,
   "metadata": {
    "collapsed": true
   },
   "outputs": [],
   "source": [
    "ref_content = ref_highest.content\n",
    "contents = ref_content.tolist()\n",
    "texts = [tokenize(content) for content in contents]"
   ]
  },
  {
   "cell_type": "code",
   "execution_count": 31,
   "metadata": {},
   "outputs": [
    {
     "data": {
      "text/plain": [
       "'My goal was to not distract others. I think I did meet my goal. I think this because in the line math when other were joking, I did not respond. I just walked on. This is why I think I met my goal. I should use it again.'"
      ]
     },
     "execution_count": 31,
     "metadata": {},
     "output_type": "execute_result"
    }
   ],
   "source": [
    "contents[111]"
   ]
  },
  {
   "cell_type": "code",
   "execution_count": 32,
   "metadata": {},
   "outputs": [
    {
     "data": {
      "text/plain": [
       "['goal',\n",
       " 'distract',\n",
       " 'think',\n",
       " 'meet',\n",
       " 'goal',\n",
       " 'think',\n",
       " 'line',\n",
       " 'math',\n",
       " 'joking',\n",
       " 'respond',\n",
       " 'walked',\n",
       " 'think',\n",
       " 'met',\n",
       " 'goal',\n",
       " 'use']"
      ]
     },
     "execution_count": 32,
     "metadata": {},
     "output_type": "execute_result"
    }
   ],
   "source": [
    "texts[111]"
   ]
  },
  {
   "cell_type": "code",
   "execution_count": 33,
   "metadata": {
    "collapsed": true
   },
   "outputs": [],
   "source": [
    "frequency = defaultdict(int)\n",
    "for text in texts:\n",
    "    for token in text:\n",
    "        frequency[token] += 1"
   ]
  },
  {
   "cell_type": "code",
   "execution_count": 34,
   "metadata": {
    "collapsed": true
   },
   "outputs": [],
   "source": [
    "texts = [[token for token in text if frequency[token] > 10] for text in texts]"
   ]
  },
  {
   "cell_type": "code",
   "execution_count": 35,
   "metadata": {
    "collapsed": true
   },
   "outputs": [],
   "source": [
    "dictionary = corpora.Dictionary(texts)\n",
    "corpus = [dictionary.doc2bow(text) for text in texts]"
   ]
  },
  {
   "cell_type": "code",
   "execution_count": 47,
   "metadata": {
    "collapsed": true
   },
   "outputs": [],
   "source": [
    "reflections_topics = LdaModel(corpus=corpus,\n",
    "                           id2word=dictionary,\n",
    "                           num_topics=5,\n",
    "                           passes=6)"
   ]
  },
  {
   "cell_type": "code",
   "execution_count": 44,
   "metadata": {},
   "outputs": [
    {
     "name": "stdout",
     "output_type": "stream",
     "text": [
      "0 --- (2, '0.052*\"like\" + 0.046*\"feel\" + 0.040*\"good\" + 0.037*\"think\" + 0.019*\"people\" + 0.018*\"year\" + 0.017*\"personal\" + 0.015*\"pretty\" + 0.014*\"know\" + 0.013*\"algebra\"')\n",
      "1 --- (4, '0.060*\"goal\" + 0.050*\"grade\" + 0.037*\"work\" + 0.032*\"math\" + 0.030*\"grades\" + 0.028*\"class\" + 0.022*\"science\" + 0.021*\"try\" + 0.019*\"ela\" + 0.018*\"need\"')\n",
      "2 --- (1, '0.039*\"strategies\" + 0.033*\"read\" + 0.033*\"strategy\" + 0.031*\"question\" + 0.028*\"time\" + 0.027*\"answer\" + 0.026*\"best\" + 0.022*\"worked\" + 0.021*\"questions\" + 0.019*\"use\"')\n",
      "3 --- (5, '0.049*\"notes\" + 0.031*\"study\" + 0.027*\"understand\" + 0.027*\"quiz\" + 0.020*\"help\" + 0.018*\"helped\" + 0.018*\"questions\" + 0.015*\"better\" + 0.014*\"test\" + 0.014*\"time\"')\n",
      "4 --- (3, '0.045*\"week\" + 0.038*\"time\" + 0.036*\"work\" + 0.019*\"homework\" + 0.018*\"class\" + 0.013*\"going\" + 0.011*\"try\" + 0.011*\"school\" + 0.011*\"day\" + 0.010*\"able\"')\n"
     ]
    }
   ],
   "source": [
    "# print out first 10 topics\n",
    "for i, topic in enumerate(reflections_topics.print_topics(5)):\n",
    "    print ('{} --- {}'.format(i, topic))"
   ]
  },
  {
   "cell_type": "code",
   "execution_count": 48,
   "metadata": {},
   "outputs": [
    {
     "data": {
      "text/html": [
       "\n",
       "<link rel=\"stylesheet\" type=\"text/css\" href=\"https://cdn.rawgit.com/bmabey/pyLDAvis/files/ldavis.v1.0.0.css\">\n",
       "\n",
       "\n",
       "<div id=\"ldavis_el654049090278805582192634\"></div>\n",
       "<script type=\"text/javascript\">\n",
       "\n",
       "var ldavis_el654049090278805582192634_data = {\"mdsDat\": {\"Freq\": [35.83911671962817, 20.636644229092944, 16.95098624562212, 13.913952654867115, 12.65930015078965], \"cluster\": [1, 1, 1, 1, 1], \"topics\": [1, 2, 3, 4, 5], \"x\": [-0.15209574350953584, 0.07846668243024274, 0.14604374853222327, -0.21130103400614314, 0.13888634655321325], \"y\": [-0.2052341147224235, -0.05523215485655933, -0.06907440691499472, 0.1786534012237875, 0.15088727527019016]}, \"tinfo\": {\"Category\": [\"Default\", \"Default\", \"Default\", \"Default\", \"Default\", \"Default\", \"Default\", \"Default\", \"Default\", \"Default\", \"Default\", \"Default\", \"Default\", \"Default\", \"Default\", \"Default\", \"Default\", \"Default\", \"Default\", \"Default\", \"Default\", \"Default\", \"Default\", \"Default\", \"Default\", \"Default\", \"Default\", \"Default\", \"Default\", \"Default\", \"Topic1\", \"Topic1\", \"Topic1\", \"Topic1\", \"Topic1\", \"Topic1\", \"Topic1\", \"Topic1\", \"Topic1\", \"Topic1\", \"Topic1\", \"Topic1\", \"Topic1\", \"Topic1\", \"Topic1\", \"Topic1\", \"Topic1\", \"Topic1\", \"Topic1\", \"Topic1\", \"Topic1\", \"Topic1\", \"Topic1\", \"Topic1\", \"Topic1\", \"Topic1\", \"Topic1\", \"Topic1\", \"Topic1\", \"Topic1\", \"Topic1\", \"Topic1\", \"Topic1\", \"Topic1\", \"Topic1\", \"Topic1\", \"Topic1\", \"Topic1\", \"Topic1\", \"Topic1\", \"Topic1\", \"Topic1\", \"Topic1\", \"Topic1\", \"Topic1\", \"Topic1\", \"Topic1\", \"Topic1\", \"Topic1\", \"Topic1\", \"Topic1\", \"Topic1\", \"Topic1\", \"Topic1\", \"Topic1\", \"Topic1\", \"Topic1\", \"Topic1\", \"Topic1\", \"Topic1\", \"Topic1\", \"Topic2\", \"Topic2\", \"Topic2\", \"Topic2\", \"Topic2\", \"Topic2\", \"Topic2\", \"Topic2\", \"Topic2\", \"Topic2\", \"Topic2\", \"Topic2\", \"Topic2\", \"Topic2\", \"Topic2\", \"Topic2\", \"Topic2\", \"Topic2\", \"Topic2\", \"Topic2\", \"Topic2\", \"Topic2\", \"Topic2\", \"Topic2\", \"Topic2\", \"Topic2\", \"Topic2\", \"Topic2\", \"Topic2\", \"Topic2\", \"Topic2\", \"Topic2\", \"Topic2\", \"Topic2\", \"Topic2\", \"Topic2\", \"Topic2\", \"Topic2\", \"Topic2\", \"Topic2\", \"Topic2\", \"Topic2\", \"Topic2\", \"Topic2\", \"Topic2\", \"Topic2\", \"Topic2\", \"Topic2\", \"Topic2\", \"Topic2\", \"Topic2\", \"Topic2\", \"Topic2\", \"Topic2\", \"Topic2\", \"Topic2\", \"Topic2\", \"Topic2\", \"Topic2\", \"Topic2\", \"Topic2\", \"Topic2\", \"Topic2\", \"Topic2\", \"Topic2\", \"Topic2\", \"Topic2\", \"Topic2\", \"Topic2\", \"Topic2\", \"Topic2\", \"Topic2\", \"Topic3\", \"Topic3\", \"Topic3\", \"Topic3\", \"Topic3\", \"Topic3\", \"Topic3\", \"Topic3\", \"Topic3\", \"Topic3\", \"Topic3\", \"Topic3\", \"Topic3\", \"Topic3\", \"Topic3\", \"Topic3\", \"Topic3\", \"Topic3\", \"Topic3\", \"Topic3\", \"Topic3\", \"Topic3\", \"Topic3\", \"Topic3\", \"Topic3\", \"Topic3\", \"Topic3\", \"Topic3\", \"Topic3\", \"Topic3\", \"Topic3\", \"Topic3\", \"Topic3\", \"Topic3\", \"Topic3\", \"Topic3\", \"Topic3\", \"Topic3\", \"Topic3\", \"Topic3\", \"Topic3\", \"Topic3\", \"Topic3\", \"Topic3\", \"Topic3\", \"Topic3\", \"Topic3\", \"Topic3\", \"Topic3\", \"Topic3\", \"Topic3\", \"Topic3\", \"Topic3\", \"Topic3\", \"Topic3\", \"Topic3\", \"Topic3\", \"Topic3\", \"Topic3\", \"Topic3\", \"Topic3\", \"Topic3\", \"Topic3\", \"Topic4\", \"Topic4\", \"Topic4\", \"Topic4\", \"Topic4\", \"Topic4\", \"Topic4\", \"Topic4\", \"Topic4\", \"Topic4\", \"Topic4\", \"Topic4\", \"Topic4\", \"Topic4\", \"Topic4\", \"Topic4\", \"Topic4\", \"Topic4\", \"Topic4\", \"Topic4\", \"Topic4\", \"Topic4\", \"Topic4\", \"Topic4\", \"Topic4\", \"Topic4\", \"Topic4\", \"Topic4\", \"Topic4\", \"Topic4\", \"Topic4\", \"Topic4\", \"Topic4\", \"Topic4\", \"Topic4\", \"Topic4\", \"Topic4\", \"Topic4\", \"Topic4\", \"Topic4\", \"Topic4\", \"Topic4\", \"Topic4\", \"Topic4\", \"Topic4\", \"Topic4\", \"Topic4\", \"Topic4\", \"Topic4\", \"Topic4\", \"Topic4\", \"Topic4\", \"Topic4\", \"Topic4\", \"Topic4\", \"Topic4\", \"Topic4\", \"Topic4\", \"Topic4\", \"Topic4\", \"Topic4\", \"Topic4\", \"Topic5\", \"Topic5\", \"Topic5\", \"Topic5\", \"Topic5\", \"Topic5\", \"Topic5\", \"Topic5\", \"Topic5\", \"Topic5\", \"Topic5\", \"Topic5\", \"Topic5\", \"Topic5\", \"Topic5\", \"Topic5\", \"Topic5\", \"Topic5\", \"Topic5\", \"Topic5\", \"Topic5\", \"Topic5\", \"Topic5\", \"Topic5\", \"Topic5\", \"Topic5\", \"Topic5\", \"Topic5\", \"Topic5\", \"Topic5\", \"Topic5\", \"Topic5\", \"Topic5\", \"Topic5\", \"Topic5\", \"Topic5\", \"Topic5\", \"Topic5\", \"Topic5\", \"Topic5\", \"Topic5\", \"Topic5\", \"Topic5\", \"Topic5\", \"Topic5\", \"Topic5\", \"Topic5\", \"Topic5\", \"Topic5\", \"Topic5\", \"Topic5\", \"Topic5\", \"Topic5\", \"Topic5\", \"Topic5\", \"Topic5\", \"Topic5\", \"Topic5\", \"Topic5\", \"Topic5\", \"Topic5\", \"Topic5\", \"Topic5\", \"Topic5\", \"Topic5\"], \"Freq\": [4058.0, 6605.0, 5492.0, 6319.0, 3906.0, 4625.0, 4020.0, 3134.0, 2799.0, 1826.0, 3436.0, 2590.0, 3157.0, 2006.0, 2725.0, 2546.0, 3580.0, 2664.0, 1845.0, 8809.0, 3591.0, 3234.0, 2825.0, 2415.0, 2327.0, 3357.0, 2110.0, 5140.0, 4232.0, 5905.0, 3435.7776898269426, 2414.2762985183367, 2724.0500798940984, 2663.492217312775, 1893.7823486802909, 1214.9502213898786, 715.2132733405143, 1176.500066185864, 681.3509976910353, 587.930266205686, 596.332831305226, 5482.049859488293, 483.50844797699045, 1857.5865480280586, 6590.158595708672, 420.24031962850177, 1869.606513601459, 604.6289409957432, 298.86332396444794, 290.42387809561717, 269.9594584011736, 270.9782170331747, 268.10253871194413, 266.46770495881333, 263.03599044397316, 470.76973811210974, 322.8320577978, 256.5576960094126, 247.45475688750676, 248.55777435472626, 6152.474213096864, 926.8021531985211, 295.2927606652762, 3396.533826812335, 572.0046251610896, 392.49961062501126, 287.4374573014699, 511.53134194312634, 391.7420423623819, 867.8977350355492, 4778.6412369420705, 7262.964473409199, 2681.8608837864926, 1186.8974381745402, 665.1769874027304, 1800.5905544200666, 1090.3090071979702, 896.7025574030746, 3019.6594021652045, 2624.5421183399276, 1953.4287894910253, 1073.981544061883, 829.6928639918801, 1323.9193723631997, 2851.9674122211177, 1943.1005714488954, 1937.0025235552955, 1435.2476104585655, 950.7411981127591, 1017.4180230489206, 970.0304214091007, 466.30288995085664, 428.9271215917328, 337.52605304409815, 332.0462666727177, 289.04075336382743, 210.50643075886666, 217.04185631043288, 202.20506991767658, 200.02654090253662, 180.71238355853384, 176.1797355682392, 159.10631697885603, 146.52681092544287, 145.13189622929647, 123.72780078415406, 120.64584054589012, 121.3620311809863, 107.42258538601648, 108.54120716912432, 98.81874655694664, 106.07359262068198, 98.24182130006999, 99.49837036946717, 88.27569530092798, 90.43322434745627, 91.61061259037854, 83.53325525947136, 84.02250665673088, 86.01802852986364, 80.44339335765402, 171.32577248556444, 97.01815930044039, 2610.752272425716, 154.60293398189717, 122.7198945729961, 3431.990598902015, 2109.0264900762304, 3593.3977072784965, 2147.6017424980378, 1635.002348277032, 347.9531805513868, 1739.1472428741652, 1000.4604216828328, 2119.265754090627, 2141.3584823982683, 1745.0350319315082, 539.6603655833271, 440.0518333351225, 3979.648555387823, 751.1139577938301, 1116.2337965645304, 414.65471007636984, 560.3481435053454, 1793.0441093079262, 552.8312505935182, 1454.3784864208471, 560.4040203787072, 451.7170419361164, 1874.1992925931645, 749.7403833569156, 1021.6963097441272, 1178.542462564825, 1027.4926471392052, 630.9671447909827, 525.6126150889368, 999.8025418641782, 1072.41912983722, 797.8759796323902, 873.0869894348125, 766.3281091814571, 807.3136804394882, 809.6318093558302, 730.3736214265573, 1090.453466299984, 413.34833315435435, 405.84977597349786, 493.54437680816363, 303.6761593101534, 967.0444423530649, 320.7991073747117, 246.83987852697862, 239.72350902769625, 230.31780347944496, 1032.3486589695774, 229.623392263479, 222.4315062077174, 315.7486699885555, 223.27551032126104, 203.7476678736284, 183.43003784145765, 178.0683244310285, 299.90558069225153, 171.20999983753723, 156.57512806939476, 159.128374111791, 156.7759717893057, 133.27996643866933, 115.68314013832752, 111.54072064935026, 110.97652574902969, 107.63845707511858, 108.62252213444336, 675.0908782343904, 312.1371214690158, 577.9679453098331, 1737.1065338327178, 260.064807862638, 328.77206392191715, 676.5430701430768, 430.4052587138251, 1896.7820002871827, 472.19307008684063, 689.2643409999145, 650.5914501926993, 1625.9335797609315, 794.7973358397448, 543.3328878246671, 1007.0555206514559, 1638.956613640448, 439.35445388677294, 1113.421414786236, 641.0181869550154, 989.4836043921409, 756.3680688343106, 801.4266472374892, 790.763216757362, 1011.9265564716928, 497.3046275657692, 917.0178788942799, 1144.1737274056204, 759.7771344414336, 734.7720391994687, 771.2808168950336, 651.8308692290775, 617.2748719882355, 4057.951061678097, 947.8078055437052, 774.0091738588527, 502.87616931776455, 455.069064290056, 353.70607656295425, 320.6594635107575, 304.9410026580713, 1820.3921106366179, 203.5022621879461, 195.67985039460837, 188.58508491870228, 190.7381272032166, 187.81376022295245, 177.93350261066578, 331.8866422259476, 156.65419933089626, 225.2525235376375, 148.60417154399357, 136.943786690569, 131.62546192600686, 129.27770242646852, 128.9098894158871, 127.07871073684308, 165.084390780939, 113.55895380668865, 135.84989841533738, 106.8405488017934, 102.85569786162469, 102.46219580482088, 113.64165184740405, 149.84282999978348, 123.64714258783886, 222.9705615951811, 284.5916692950158, 202.8816185644073, 796.4625979905509, 981.014385989999, 225.01181025256827, 182.30995790031824, 167.2095585448172, 393.7596472400577, 303.72979873851057, 1232.1155342696964, 524.6134111508419, 334.8830287545071, 235.22127341995704, 585.3304635273664, 885.2263335000789, 800.6063819187774, 824.5547016594123, 571.8892203488364, 251.07215380064295, 527.433901987798, 925.8670112680808, 448.9332476549405, 524.0113090611192, 548.8953540603404, 445.2940672141224, 316.8245081164091, 362.1850950890443, 308.67485069520154, 848.0495482269254, 523.2932953546338, 303.78648859728236, 255.37126899761884, 222.18526647360198, 214.72619934470214, 186.05529198431825, 149.9751620737369, 141.59125298753378, 131.68279608868565, 132.0470209829175, 128.52816638520608, 126.08581033349037, 137.4979403278949, 112.36197878781886, 102.04059168025726, 102.49663702497779, 99.22730959631552, 93.59870041377485, 92.07369264973637, 84.34731592329801, 78.9703001529895, 77.34415261561297, 76.2623823190305, 76.03341143918215, 74.72571301812354, 75.60723463033652, 76.36300553157278, 80.60208032589229, 69.60588791469704, 80.84656925813904, 373.19957904018423, 96.64899898886317, 477.05377321727354, 202.29396792131752, 2142.701426781012, 957.2604637036079, 171.5433018831344, 1259.63403822953, 652.9878701689975, 558.5464043550415, 1545.7336550084854, 539.3460801669153, 225.86630700882884, 1880.9379656021022, 763.3953951909509, 262.66598487936625, 1481.9246689531146, 347.76613509115754, 506.75751912214923, 565.0968481203897, 1063.855854967018, 389.2831027579006, 414.3285458637403, 1021.5219853207581, 1222.9786577253892, 439.23334290962987, 559.856912017688, 648.7130111562655, 477.44771804769937, 611.3859034847397, 482.64865027223414, 369.83440481729656, 424.09966835267136, 385.77490488016736], \"Term\": [\"ela\", \"goal\", \"grade\", \"week\", \"strategies\", \"notes\", \"study\", \"feel\", \"read\", \"writing\", \"grades\", \"quiz\", \"questions\", \"check\", \"finish\", \"strategy\", \"math\", \"homework\", \"reflection\", \"time\", \"test\", \"understand\", \"worked\", \"science\", \"reading\", \"best\", \"question\", \"try\", \"like\", \"class\", \"grades\", \"science\", \"finish\", \"homework\", \"school\", \"turn\", \"ixl\", \"english\", \"credit\", \"raise\", \"accomplish\", \"grade\", \"exit\", \"classes\", \"goal\", \"reach\", \"assignments\", \"bring\", \"staying\", \"packets\", \"office\", \"weekend\", \"newsela\", \"upcoming\", \"friday\", \"packet\", \"distracted\", \"late\", \"tickets\", \"enrichment\", \"week\", \"stay\", \"task\", \"math\", \"teachers\", \"history\", \"spanish\", \"arts\", \"finishing\", \"missing\", \"class\", \"work\", \"want\", \"complete\", \"talk\", \"improve\", \"home\", \"extra\", \"try\", \"need\", \"going\", \"getting\", \"finished\", \"ask\", \"time\", \"good\", \"help\", \"better\", \"teacher\", \"best\", \"like\", \"sleep\", \"carefully\", \"phone\", \"biology\", \"answering\", \"chapter\", \"procrastinating\", \"passage\", \"subjects\", \"reread\", \"planning\", \"exams\", \"sba\", \"apply\", \"chapters\", \"underline\", \"worth\", \"worksheets\", \"answered\", \"bed\", \"session\", \"action\", \"challenges\", \"rereading\", \"likely\", \"satisfied\", \"textbook\", \"refer\", \"suppose\", \"tend\", \"quizlet\", \"encountered\", \"read\", \"twice\", \"efficiently\", \"strategies\", \"strategy\", \"notes\", \"worked\", \"question\", \"minutes\", \"reading\", \"taking\", \"best\", \"test\", \"use\", \"words\", \"text\", \"time\", \"look\", \"answer\", \"night\", \"took\", \"study\", \"remember\", \"questions\", \"looking\", \"studied\", \"try\", \"studying\", \"helped\", \"sure\", \"quiz\", \"book\", \"answers\", \"understand\", \"better\", \"got\", \"think\", \"know\", \"going\", \"help\", \"lab\", \"problem\", \"solve\", \"block\", \"wise\", \"error\", \"knowledge\", \"classmate\", \"data\", \"table\", \"independent\", \"problems\", \"cross\", \"numbers\", \"number\", \"priority\", \"simple\", \"predict\", \"equation\", \"mistake\", \"kc\", \"line\", \"super\", \"pillars\", \"messed\", \"lines\", \"graphs\", \"actions\", \"graph\", \"amazing\", \"mistakes\", \"double\", \"understood\", \"check\", \"equations\", \"peers\", \"helpful\", \"confused\", \"understand\", \"classwork\", \"learned\", \"wrong\", \"questions\", \"practice\", \"understanding\", \"helped\", \"help\", \"correct\", \"sure\", \"asking\", \"got\", \"answer\", \"able\", \"ask\", \"need\", \"continue\", \"notes\", \"work\", \"better\", \"think\", \"class\", \"like\", \"time\", \"ela\", \"essay\", \"personal\", \"increase\", \"evidence\", \"ideas\", \"behavior\", \"hw\", \"writing\", \"current\", \"discussion\", \"draft\", \"response\", \"journal\", \"paragraphs\", \"feedback\", \"grammar\", \"adult\", \"criteria\", \"money\", \"mood\", \"spelling\", \"letter\", \"rough\", \"push\", \"thoughts\", \"dish\", \"ignore\", \"punctuation\", \"sentences\", \"sketch\", \"edit\", \"rubric\", \"stand\", \"reflect\", \"research\", \"people\", \"write\", \"paragraph\", \"person\", \"conclusion\", \"group\", \"story\", \"think\", \"book\", \"paper\", \"add\", \"reflection\", \"like\", \"good\", \"need\", \"reading\", \"main\", \"things\", \"work\", \"thing\", \"use\", \"want\", \"better\", \"year\", \"improve\", \"feel\", \"win\", \"algebra\", \"passing\", \"tutorial\", \"music\", \"guide\", \"habits\", \"cards\", \"dropped\", \"moment\", \"speech\", \"water\", \"drop\", \"waiting\", \"card\", \"retaking\", \"ace\", \"wanna\", \"skill\", \"assessments\", \"major\", \"educ\", \"advantage\", \"eat\", \"sessions\", \"academy\", \"agree\", \"engage\", \"enjoyed\", \"object\", \"summative\", \"struggling\", \"somewhat\", \"retake\", \"concepts\", \"feel\", \"pretty\", \"summer\", \"reflection\", \"change\", \"small\", \"quiz\", \"learning\", \"life\", \"study\", \"sdl\", \"exam\", \"like\", \"prepared\", \"ve\", \"weeks\", \"think\", \"quizzes\", \"felt\", \"good\", \"time\", \"studying\", \"things\", \"test\", \"lot\", \"need\", \"going\", \"went\", \"better\", \"know\"], \"Total\": [4058.0, 6605.0, 5492.0, 6319.0, 3906.0, 4625.0, 4020.0, 3134.0, 2799.0, 1826.0, 3436.0, 2590.0, 3157.0, 2006.0, 2725.0, 2546.0, 3580.0, 2664.0, 1845.0, 8809.0, 3591.0, 3234.0, 2825.0, 2415.0, 2327.0, 3357.0, 2110.0, 5140.0, 4232.0, 5905.0, 3436.7440736022136, 2415.246710564915, 2725.1487447459463, 2664.634602190792, 1894.7671003174744, 1215.9266834399762, 716.1827299511368, 1178.1717147625875, 682.3223666866389, 588.8958655288918, 597.3130054013766, 5492.314399636251, 484.474033380129, 1861.483109644729, 6605.200043775323, 421.2013502070595, 1874.8831561449679, 606.4402795737514, 299.8310933728494, 291.39925936981723, 270.92218875765866, 271.9510284498319, 269.0680540096454, 267.4417319883216, 263.99988635432766, 472.5033151267048, 324.02902388215324, 257.52448522715036, 248.4203926534778, 249.5337321514992, 6319.493988965597, 934.7251981229799, 296.64453427155684, 3580.2812180932474, 581.6923381559304, 396.3759207802501, 288.91087110931784, 529.1183681618045, 399.56188430630687, 939.7228402302384, 5905.314845953951, 9866.154591988261, 3484.4475855327755, 1423.9106937198694, 736.1609879110288, 2507.7884821789175, 1357.08615562878, 1077.6933424479184, 5140.113836042423, 5346.023009962317, 3523.755584763881, 1470.3470434647102, 1019.0024803077221, 2309.25923663104, 8809.158542305568, 4606.623298814629, 4646.912020770139, 4136.837610304013, 1359.8762455693698, 3357.962710226479, 4232.963270400597, 467.19450470207335, 429.784300535917, 338.4014509874871, 333.0213103099264, 289.9144917447837, 211.36263560114844, 217.93887912429037, 203.05748848784356, 200.93964583786692, 181.59119256890006, 177.1268032157857, 159.99499333043576, 147.43395809928944, 146.08052129209764, 124.61087406602059, 121.51022041640796, 122.26889981955199, 108.28737641225561, 109.43412470596738, 99.68839452546456, 107.03141354815239, 99.13301827696797, 100.44775192587215, 89.13094408313705, 91.3210436725335, 92.51682044645696, 84.39728331356955, 84.90532990625468, 86.92537235175354, 81.32644191287729, 173.33961408515273, 98.14346161700138, 2799.2766342674904, 157.26921376500255, 124.5679485024546, 3906.163718230774, 2546.679288334366, 4625.6576129768, 2825.980692988854, 2110.7595812926115, 393.93101571347574, 2327.4901491071855, 1276.2746579444033, 3357.962710226479, 3591.2500155784487, 2948.592505818029, 728.3688039813823, 574.9072154255966, 8809.158542305568, 1120.4608935345677, 1873.18205318573, 555.5779486728392, 826.0447648107387, 4020.6102104882066, 828.5182445550168, 3157.3369477370297, 850.1780732097401, 636.3251626273491, 5140.113836042423, 1341.8300485090667, 2166.4022640157764, 3217.0405557860063, 2590.8819692905745, 1172.3697945416473, 837.803938273475, 3234.7767153124055, 4136.837610304013, 2836.5254154250865, 4198.742090608939, 2679.438507306691, 3523.755584763881, 4646.912020770139, 731.2017224286565, 1092.0773472326869, 414.1493184563672, 406.7111893645541, 494.6783212499709, 304.47582658518377, 969.6320584768666, 321.6577062596173, 247.6411747048438, 240.52720601411704, 231.1215256273667, 1036.0243450620612, 230.47578394388321, 223.28825693028713, 316.98050705936123, 224.15661060822492, 204.57140732346556, 184.23419145087, 178.86939074837815, 301.258781165633, 172.00819866851919, 157.37590136952022, 159.9582961005006, 157.60567206838923, 134.085512801027, 116.4863564564096, 112.34244378372043, 111.79707191118065, 108.4425894143957, 109.46473849879396, 683.9343244307204, 316.8206246806196, 595.5377656794378, 2006.2815434371296, 275.2394234867103, 354.94083170517894, 781.5694912530395, 505.6616379630906, 3234.7767153124055, 596.076760487959, 986.9567497868188, 950.7163645334831, 3157.3369477370297, 1240.2872883459459, 791.5914322002532, 2166.4022640157764, 4646.912020770139, 650.9678195689135, 3217.0405557860063, 1300.0177342700802, 2836.5254154250865, 1873.18205318573, 2203.7874179042146, 2309.25923663104, 5346.023009962317, 948.6256091060941, 4625.6576129768, 9866.154591988261, 4136.837610304013, 4198.742090608939, 5905.314845953951, 4232.963270400597, 8809.158542305568, 4058.848959177613, 948.6687584678214, 774.8824450263951, 503.7367744910657, 455.91611747627013, 354.55302544475586, 321.555623994489, 305.8476521010639, 1826.1630734275634, 204.38763433225185, 196.5333877911514, 189.43583818734174, 191.60542576752073, 188.68279918847674, 178.77641457215918, 333.5568549413725, 157.49428095613374, 226.49873280386552, 149.44774320803054, 137.79679212217462, 132.4741486643494, 130.1193050955139, 129.77243752076197, 127.93659086847639, 166.29056739846075, 114.40408049439172, 136.92328783570673, 107.70217085027544, 103.69572618366877, 103.30928462665169, 114.58880598793648, 151.5689218950189, 124.85688132578268, 232.1681251153087, 309.0335453344712, 214.18980970776911, 1060.7637992030886, 1431.8259558708671, 262.57437048538543, 203.8560539854602, 186.29084470359805, 673.1082812403608, 458.12971486232857, 4198.742090608939, 1172.3697945416473, 572.8362005607297, 320.20645861638206, 1845.6263771656745, 4232.963270400597, 4606.623298814629, 5346.023009962317, 2327.4901491071855, 374.1962937414496, 2378.7328262416904, 9866.154591988261, 1665.643774139478, 2948.592505818029, 3484.4475855327755, 4136.837610304013, 1215.686175691732, 2507.7884821789175, 3134.2172898622457, 848.9356909475318, 524.1749405711826, 304.7768251543741, 256.3393008460468, 223.0748309910735, 215.5968464355299, 186.9324879624559, 150.85401495792962, 142.4804902620903, 132.5639898089802, 132.94572476586362, 129.41209649993942, 126.97361169939317, 138.52610165594882, 113.23902928295111, 102.92151152571914, 103.41858423589352, 100.14047486539931, 94.47780691932309, 92.95137765993817, 85.22771425886425, 79.86655609716503, 78.22751369780448, 77.14070604676961, 76.92935336688764, 75.61581848404941, 76.51183496225235, 77.2814120269027, 81.58881038185689, 70.47329818047312, 81.91327046981043, 400.5135760082007, 99.08458572327923, 556.7611497011036, 222.4218061738909, 3134.2172898622457, 1326.3148201820447, 191.49472227664398, 1845.6263771656745, 899.1142984524722, 774.7484396396003, 2590.8819692905745, 813.781874016011, 278.8058255110649, 4020.6102104882066, 1290.938140378605, 350.7108534536162, 4232.963270400597, 556.8993889433184, 1009.599536578341, 1201.7845482177677, 4198.742090608939, 809.360175266364, 920.3499618049063, 4606.623298814629, 8809.158542305568, 1341.8300485090667, 2378.7328262416904, 3591.2500155784487, 2016.255852359457, 5346.023009962317, 3523.755584763881, 1266.9043514250843, 4136.837610304013, 2679.438507306691], \"loglift\": [30.0, 29.0, 28.0, 27.0, 26.0, 25.0, 24.0, 23.0, 22.0, 21.0, 20.0, 19.0, 18.0, 17.0, 16.0, 15.0, 14.0, 13.0, 12.0, 11.0, 10.0, 9.0, 8.0, 7.0, 6.0, 5.0, 4.0, 3.0, 2.0, 1.0, 1.0258, 1.0257, 1.0257, 1.0257, 1.0256, 1.0253, 1.0248, 1.0247, 1.0247, 1.0245, 1.0245, 1.0243, 1.0241, 1.024, 1.0239, 1.0238, 1.0233, 1.0231, 1.0229, 1.0228, 1.0226, 1.0225, 1.0225, 1.0225, 1.0225, 1.0225, 1.0224, 1.0224, 1.0222, 1.0222, 0.9993, 1.0176, 1.0216, 0.9734, 1.0093, 1.0163, 1.021, 0.9923, 1.0064, 0.9466, 0.8144, 0.7198, 0.7643, 0.8441, 0.9247, 0.6948, 0.8073, 0.8423, 0.4942, 0.3147, 0.4362, 0.712, 0.8206, 0.4698, -0.1017, 0.1629, 0.1511, -0.0325, 0.6682, -0.1679, -0.4472, 1.5762, 1.5761, 1.5755, 1.5752, 1.5751, 1.574, 1.574, 1.5739, 1.5735, 1.5733, 1.5727, 1.5725, 1.5719, 1.5716, 1.571, 1.571, 1.5707, 1.5701, 1.5699, 1.5693, 1.5691, 1.5691, 1.5686, 1.5685, 1.5683, 1.5683, 1.5678, 1.5676, 1.5676, 1.5672, 1.5664, 1.5666, 1.5084, 1.561, 1.5632, 1.4487, 1.3895, 1.3256, 1.3036, 1.3227, 1.454, 1.2867, 1.3346, 1.1178, 1.061, 1.0535, 1.2782, 1.3108, 0.7835, 1.1782, 1.0604, 1.2855, 1.19, 0.7706, 1.1735, 0.803, 1.1613, 1.2354, 0.5692, 0.996, 0.8265, 0.5739, 0.6532, 0.9586, 1.1119, 0.4039, 0.2281, 0.3097, 0.0076, 0.3263, 0.1045, -0.1693, 1.7737, 1.7734, 1.7729, 1.7727, 1.7725, 1.7722, 1.7722, 1.7722, 1.7716, 1.7715, 1.7714, 1.7713, 1.7711, 1.771, 1.771, 1.7709, 1.7708, 1.7705, 1.7704, 1.7703, 1.7702, 1.7697, 1.7696, 1.7696, 1.7688, 1.7679, 1.7677, 1.7675, 1.7674, 1.7671, 1.7618, 1.76, 1.7449, 1.6308, 1.7181, 1.6983, 1.6305, 1.6137, 1.241, 1.5419, 1.4158, 1.3955, 1.1112, 1.3298, 1.3985, 1.0088, 0.7327, 1.3817, 0.7138, 1.0678, 0.7217, 0.868, 0.7633, 0.7032, 0.1103, 1.129, 0.1566, -0.3796, 0.0802, 0.0319, -0.2607, -0.096, -0.8834, 1.9721, 1.9714, 1.9712, 1.9706, 1.9704, 1.9699, 1.9695, 1.9693, 1.9691, 1.9679, 1.9679, 1.9678, 1.9677, 1.9677, 1.9676, 1.9673, 1.9669, 1.9668, 1.9666, 1.9661, 1.9659, 1.9658, 1.9656, 1.9655, 1.965, 1.9649, 1.9644, 1.9642, 1.9641, 1.964, 1.964, 1.9608, 1.9625, 1.9319, 1.8899, 1.918, 1.6857, 1.5942, 1.8179, 1.8606, 1.8642, 1.4361, 1.5613, 0.7462, 1.1682, 1.4355, 1.6638, 0.8239, 0.4075, 0.2224, 0.103, 0.5687, 1.5732, 0.466, -0.3939, 0.6612, 0.2447, 0.1241, -0.2567, 0.6276, 0.0373, -0.3456, 2.0657, 2.0651, 2.0635, 2.063, 2.0628, 2.0627, 2.0621, 2.0609, 2.0605, 2.0601, 2.06, 2.0599, 2.0598, 2.0593, 2.059, 2.0582, 2.0578, 2.0576, 2.0574, 2.0573, 2.0564, 2.0555, 2.0554, 2.0553, 2.0551, 2.0549, 2.0549, 2.0548, 2.0546, 2.0544, 2.0537, 1.9961, 2.0419, 1.9123, 1.9719, 1.6865, 1.7407, 1.9568, 1.6848, 1.7469, 1.7396, 1.5503, 1.6554, 1.8562, 1.3071, 1.5414, 1.7777, 1.0172, 1.5959, 1.3775, 1.3122, 0.6939, 1.3348, 1.2687, 0.5606, 0.0923, 0.95, 0.6201, 0.3555, 0.6262, -0.1016, 0.0788, 0.8355, -0.2109, 0.1287], \"logprob\": [30.0, 29.0, 28.0, 27.0, 26.0, 25.0, 24.0, 23.0, 22.0, 21.0, 20.0, 19.0, 18.0, 17.0, 16.0, 15.0, 14.0, 13.0, 12.0, 11.0, 10.0, 9.0, 8.0, 7.0, 6.0, 5.0, 4.0, 3.0, 2.0, 1.0, -3.9137001037597656, -4.266600131988525, -4.145899772644043, -4.168300151824951, -4.509399890899658, -4.9532999992370605, -5.483099937438965, -4.985400199890137, -5.531599998474121, -5.679100036621094, -5.664899826049805, -3.446500062942505, -5.87470006942749, -4.52869987487793, -3.262399911880493, -6.014900207519531, -4.522200107574463, -5.651100158691406, -6.3557000160217285, -6.384399890899658, -6.457499980926514, -6.453700065612793, -6.464399814605713, -6.4704999923706055, -6.483399868011475, -5.901400089263916, -6.278600215911865, -6.508399963378906, -6.54449987411499, -6.54010009765625, -3.3310999870300293, -5.223999977111816, -6.367800235748291, -3.9251999855041504, -5.706600189208984, -6.083199977874756, -6.394700050354004, -5.818299770355225, -6.085100173950195, -5.289700031280518, -3.5838000774383545, -3.1651999950408936, -4.161499977111816, -4.976600170135498, -5.555699825286865, -4.559899806976318, -5.061500072479248, -5.256999969482422, -4.042799949645996, -4.18310022354126, -4.478400230407715, -5.076600074768066, -5.334700107574463, -4.867400169372559, -4.099999904632568, -4.483699798583984, -4.486800193786621, -4.786600112915039, -5.198500156402588, -5.13070011138916, -5.178400039672852, -5.35890007019043, -5.442500114440918, -5.68209981918335, -5.698500156402588, -5.837200164794922, -6.154200077056885, -6.123700141906738, -6.194499969482422, -6.2052998542785645, -6.30679988861084, -6.332300186157227, -6.434199810028076, -6.516499996185303, -6.526100158691406, -6.685699939727783, -6.710899829864502, -6.704999923706055, -6.827000141143799, -6.8165998458862305, -6.9105000495910645, -6.839600086212158, -6.916299819946289, -6.903600215911865, -7.0233001708984375, -6.999100208282471, -6.986199855804443, -7.078499794006348, -7.072700023651123, -7.049200057983398, -7.116199970245361, -6.360199928283691, -6.928899765014648, -3.636399984359741, -6.462900161743164, -6.693900108337402, -3.3629000186920166, -3.8498001098632812, -3.3169000148773193, -3.8315999507904053, -4.104400157928467, -5.651700019836426, -4.042600154876709, -4.5954999923706055, -3.844899892807007, -3.8345999717712402, -4.0391998291015625, -5.212800025939941, -5.416900157928467, -3.2147998809814453, -4.882199764251709, -4.486000061035156, -5.47629976272583, -5.17519998550415, -4.0121002197265625, -5.188700199127197, -4.221399784088135, -5.175099849700928, -5.390699863433838, -3.9677999019622803, -4.883999824523926, -4.57450008392334, -4.431700229644775, -4.568900108337402, -5.05649995803833, -5.239200115203857, -4.596199989318848, -4.526100158691406, -4.821800231933594, -4.7316999435424805, -4.862100124359131, -4.809999942779541, -4.807199954986572, -4.713500022888184, -4.312699794769287, -5.282700061798096, -5.301000118255615, -5.105400085449219, -5.591100215911865, -4.432799816131592, -5.536200046539307, -5.798299789428711, -5.827499866485596, -5.867599964141846, -4.367400169372559, -5.87060022354126, -5.902400016784668, -5.55210018157959, -5.898600101470947, -5.990099906921387, -6.095200061798096, -6.124800205230713, -5.603499889373779, -6.164100170135498, -6.253499984741211, -6.237299919128418, -6.252200126647949, -6.414599895477295, -6.55620002746582, -6.592599868774414, -6.597700119018555, -6.628200054168701, -6.619100093841553, -4.792200088500977, -5.563600063323975, -4.947500228881836, -3.8469998836517334, -5.746099948883057, -5.511600017547607, -4.789999961853027, -5.242300033569336, -3.7590999603271484, -5.149600028991699, -4.771399974822998, -4.829100131988525, -3.9131999015808105, -4.628900051116943, -5.009300231933594, -4.392199993133545, -3.9052000045776367, -5.221700191497803, -4.291800022125244, -4.843999862670898, -4.409800052642822, -4.678500175476074, -4.62060022354126, -4.633999824523926, -4.387400150299072, -5.097799777984619, -4.485899925231934, -4.264599800109863, -4.673999786376953, -4.707499980926514, -4.658999919891357, -4.827199935913086, -4.881700038909912, -2.801100015640259, -4.25540018081665, -4.458000183105469, -4.889200210571289, -4.989099979400635, -5.241099834442139, -5.339200019836426, -5.389500141143799, -3.602799892425537, -5.793900012969971, -5.833099842071533, -5.869999885559082, -5.858699798583984, -5.874100208282471, -5.928199768066406, -5.304800033569336, -6.055500030517578, -5.692399978637695, -6.10830020904541, -6.190000057220459, -6.229599952697754, -6.247600078582764, -6.250500202178955, -6.264800071716309, -6.0030999183654785, -6.377299785614014, -6.197999954223633, -6.438199996948242, -6.47629976272583, -6.480100154876709, -6.376500129699707, -6.099999904632568, -6.292099952697754, -5.702499866485596, -5.458499908447266, -5.796999931335449, -4.4293999671936035, -4.2210001945495605, -5.693399906158447, -5.903900146484375, -5.990300178527832, -5.133800029754639, -5.393400192260742, -3.9930999279022217, -4.84689998626709, -5.29580020904541, -5.649099826812744, -4.737400054931641, -4.323699951171875, -4.424200057983398, -4.394700050354004, -4.7606000900268555, -5.583799839019775, -4.841599941253662, -4.278800010681152, -5.002699851989746, -4.848100185394287, -4.801700115203857, -5.010799884796143, -5.351200103759766, -5.217400074005127, -5.377299785614014, -4.27209997177124, -4.754899978637695, -5.298799991607666, -5.472400188446045, -5.611599922180176, -5.645699977874756, -5.789000034332275, -6.0046000480651855, -6.062099933624268, -6.134699821472168, -6.131899833679199, -6.158899784088135, -6.178100109100342, -6.0914998054504395, -6.293399810791016, -6.389699935913086, -6.385200023651123, -6.417699813842773, -6.476099967956543, -6.492499828338623, -6.580100059509277, -6.645999908447266, -6.666800022125244, -6.6809000968933105, -6.683899879455566, -6.701300144195557, -6.689499855041504, -6.679599761962891, -6.6255998611450195, -6.772200107574463, -6.622499942779541, -5.0929999351501465, -6.443999767303467, -4.847499847412109, -5.705399990081787, -3.3452999591827393, -4.151000022888184, -5.870200157165527, -3.876499891281128, -4.5335001945495605, -4.689700126647949, -3.671799898147583, -4.724699974060059, -5.595099925994873, -3.475600004196167, -4.377299785614014, -5.444200038909912, -3.7139999866485596, -5.163599967956543, -4.7870001792907715, -4.678100109100342, -4.045400142669678, -5.05079984664917, -4.988399982452393, -4.085999965667725, -3.9059998989105225, -4.929999828338623, -4.687399864196777, -4.54010009765625, -4.84660005569458, -4.599400043487549, -4.8358001708984375, -5.1020002365112305, -4.965099811553955, -5.059800148010254]}, \"token.table\": {\"Topic\": [1, 2, 3, 4, 5, 5, 1, 5, 2, 3, 2, 3, 4, 5, 1, 4, 5, 5, 5, 3, 2, 3, 2, 2, 2, 3, 2, 1, 4, 1, 2, 3, 4, 1, 2, 3, 4, 5, 1, 5, 2, 4, 1, 2, 4, 1, 2, 3, 4, 5, 2, 3, 1, 2, 4, 1, 4, 5, 5, 2, 2, 1, 4, 5, 2, 2, 1, 2, 3, 1, 2, 3, 4, 5, 1, 5, 3, 1, 3, 1, 2, 3, 4, 5, 2, 3, 5, 3, 4, 2, 3, 5, 1, 2, 3, 4, 5, 1, 2, 3, 4, 1, 4, 3, 4, 3, 4, 4, 1, 2, 3, 4, 5, 5, 5, 1, 4, 5, 2, 3, 4, 2, 5, 1, 4, 5, 1, 3, 3, 5, 3, 4, 4, 3, 5, 2, 1, 1, 2, 3, 4, 5, 3, 4, 1, 2, 3, 4, 5, 2, 3, 4, 5, 1, 1, 2, 3, 4, 5, 1, 5, 1, 1, 2, 3, 4, 5, 1, 4, 1, 2, 3, 4, 5, 1, 2, 3, 4, 5, 1, 2, 3, 4, 5, 1, 2, 5, 1, 4, 3, 3, 1, 2, 3, 4, 5, 5, 5, 1, 2, 3, 4, 5, 1, 2, 3, 4, 5, 2, 3, 5, 1, 4, 1, 2, 1, 4, 4, 4, 1, 2, 3, 4, 5, 4, 3, 1, 4, 3, 1, 2, 3, 4, 5, 3, 5, 3, 1, 1, 2, 3, 4, 5, 1, 2, 3, 5, 4, 1, 3, 4, 5, 1, 2, 3, 4, 5, 2, 3, 3, 1, 2, 3, 4, 5, 1, 2, 3, 4, 5, 1, 2, 3, 4, 5, 1, 2, 4, 5, 5, 1, 3, 3, 1, 2, 1, 5, 2, 3, 2, 3, 5, 4, 4, 5, 1, 2, 3, 4, 5, 1, 1, 2, 4, 1, 2, 3, 5, 3, 5, 3, 5, 1, 1, 4, 1, 1, 2, 3, 4, 5, 2, 4, 4, 2, 5, 3, 4, 1, 3, 4, 5, 3, 4, 5, 4, 2, 3, 2, 1, 2, 3, 5, 3, 1, 2, 3, 5, 1, 2, 3, 4, 5, 3, 2, 3, 3, 5, 2, 4, 3, 4, 2, 3, 1, 2, 3, 5, 1, 2, 3, 5, 2, 5, 1, 2, 5, 1, 1, 1, 2, 4, 1, 2, 4, 2, 4, 5, 4, 5, 1, 2, 3, 5, 2, 2, 3, 4, 4, 2, 5, 5, 4, 3, 4, 2, 2, 1, 1, 1, 4, 5, 4, 2, 5, 3, 4, 5, 2, 1, 2, 3, 4, 5, 3, 1, 5, 1, 4, 5, 4, 2, 4, 1, 3, 1, 2, 4, 1, 2, 3, 4, 1, 2, 3, 4, 1, 5, 2, 5, 1, 2, 3, 5, 1, 2, 5, 2, 5, 1, 5, 3, 2, 1, 2, 3, 4, 5, 3, 1, 2, 3, 5, 1, 3, 4, 1, 4, 1, 2, 3, 4, 1, 3, 2, 1, 2, 3, 5, 2, 4, 2, 1, 2, 3, 4, 5, 1, 2, 3, 4, 5, 1, 2, 3, 4, 5, 4, 1, 1, 2, 3, 4, 5, 1, 2, 3, 5, 1, 2, 3, 4, 1, 5, 1, 2, 2, 1, 2, 3, 5, 1, 2, 3, 4, 5, 2, 3, 1, 1, 2, 3, 4, 5, 1, 2, 3, 4, 5, 5, 5, 1, 2, 3, 4, 5, 1, 4, 1, 1, 3, 5, 1, 2, 3, 4, 5, 5, 3, 2, 3, 4, 1, 2, 3, 4, 5, 1, 2, 4, 5, 2, 2, 1, 2, 3, 4, 2, 4, 2, 3, 1, 2, 4, 5], \"Freq\": [0.3866071623234176, 0.04083878475247369, 0.3634651842970158, 0.04900654170296843, 0.15972502480967488, 0.9918559569096073, 0.9978018134721606, 0.9862830820362248, 0.988570727526903, 0.9928703686281345, 0.003122985102552329, 0.26233074861439565, 0.7339014990997973, 0.003122985102552329, 0.004415035738261462, 0.9933830411088289, 0.9843084147791478, 0.9933103818186445, 0.9977584953414556, 0.9957544456309181, 0.5957776491089124, 0.40359131068668264, 0.9960330042650425, 0.9968456501112448, 0.627831854173385, 0.3724021644526542, 0.9926032486566976, 0.9676473749696596, 0.03212891674703948, 0.5733440312797333, 0.06452285548389748, 0.3425340851527712, 0.019919807733283786, 0.3315339388366061, 0.17230534176194842, 0.4930701967384327, 0.002307660827168952, 0.989764781503091, 0.9973954877513496, 0.0026668328549501324, 0.9930945369444313, 0.9982720750220854, 0.3028622077615055, 0.6310373827400494, 0.06581371476429962, 0.3468833285661757, 0.25913514161877377, 0.18371521234166796, 0.10757009143689769, 0.10249375004324635, 0.996933198332035, 0.9982513651378383, 0.013647570992099298, 0.5382260810009161, 0.44781092317825827, 0.9976250265322685, 0.0016489669860037495, 0.9890582841375729, 0.994338798618202, 0.9981751298617958, 0.985587015158482, 0.18573834304207512, 0.08675204046276563, 0.7262702874639225, 0.9982842965592426, 0.9950977467207481, 0.09968690618434499, 0.03439198263359902, 0.8657807802110362, 0.8092709914145138, 0.03860928772599061, 0.13056035454709983, 0.010668355819023721, 0.011007033781532411, 0.9981288524044714, 0.0016116181685755725, 0.9979552603689635, 0.20634926263407757, 0.791844324904753, 0.8336196962599133, 0.047755803998040525, 0.08497723946710152, 0.016854989646367245, 0.017557280881632546, 0.004495962051572377, 0.08542327897987516, 0.90818433441762, 0.10199105613714055, 0.8964477039422353, 0.12261163462933196, 0.8503710143647217, 0.025708891131956704, 0.2213728977840758, 0.20239807797401216, 0.5239158580889793, 0.005270783280573233, 0.04638289286904445, 0.0015361742469270202, 0.22581761429827196, 0.6743804944009619, 0.09677897755640227, 0.998061961982779, 0.9970040149257571, 0.9979356445360912, 0.9981034354963877, 0.9974108719779415, 0.9972860194537622, 0.9932568969800478, 0.9968242848439173, 0.012625440670197273, 0.9847843722753872, 0.9976992833483244, 0.9923321729108708, 0.9966276768053896, 0.9852126574252767, 0.006597658593181982, 0.9896487889772972, 0.9891499503733354, 0.9874129057971626, 0.008027747201602948, 0.9997908374551132, 0.9883490800287474, 0.9834188843954271, 0.9990054804848004, 0.0008487727106922688, 0.9927831968734303, 0.9978610821595247, 0.9951395219453665, 0.9446321195791703, 0.05449800689879829, 0.9984372270517488, 0.9992950558750333, 0.9979906008119622, 0.24806760082634943, 0.7499055059463207, 0.9937810970848268, 0.9990215504909071, 0.832333247937225, 0.06680935769395786, 0.08907914359194381, 0.0009279077457494146, 0.01206280069474239, 0.002997989653595231, 0.9953325649936167, 0.06795955107801786, 0.018186358739187877, 0.1317713361277999, 0.09858920790191324, 0.6837432768084144, 0.03150975303256149, 0.4856848139846547, 0.03259629624058085, 0.44982888812001576, 0.999578465304633, 0.8145220605835558, 0.017664333843980726, 0.040235427089067216, 0.09028437298034594, 0.037291371448403755, 0.9810745604039902, 0.017519188578642684, 0.9962125500577463, 0.7304397997558711, 0.08569405471996253, 0.08773438935615212, 0.05508903517711877, 0.04148680426918821, 0.9976987761650539, 0.0021195421648422994, 0.5542382134687319, 0.22901701908308583, 0.06073065933553949, 0.018730016430586947, 0.1370696656965681, 0.42178399968149566, 0.1204787029455636, 0.062301599541219374, 0.1738800739808945, 0.2218544764150739, 0.3328015306566645, 0.28133010748307025, 0.34866601040195044, 0.002820351954717496, 0.03419676745094964, 0.9981220303708516, 0.0003641452135610549, 0.0012745082474636923, 0.9997834946140073, 0.9968615942551501, 0.9959186753397744, 0.9969517862333519, 0.19164821410648383, 0.019313385917707673, 0.07576789860023779, 0.5853441578136017, 0.1292511211415821, 0.9972316550756768, 0.9950116324207744, 0.4168359528526168, 0.17430930398070194, 0.352707344721445, 0.04519130103203383, 0.010975030250636788, 0.00507754269957682, 0.47174987626977366, 0.46482595440671437, 0.00046159479087062, 0.05816094364969812, 0.13050662946997846, 0.8662057661879944, 0.002558953519019186, 0.9889601750488872, 0.00756857276823128, 0.8031914521263164, 0.19600818923449556, 0.9993865567198413, 0.9972285152583621, 0.9984402179502991, 0.9934804392081236, 0.718162641226896, 0.06100993009867579, 0.07337141920363624, 0.14435029212889303, 0.002791303991442683, 0.9985373819653923, 0.9951474635505179, 0.9983485639883867, 0.9963812324630891, 0.9941386592248309, 0.31835028035684076, 0.2858807910355686, 0.1839937728205422, 0.06755146628908344, 0.1440600330805868, 0.9972855079884619, 0.002062638072364968, 0.9983565103967958, 0.9979633578271684, 0.011145371874072479, 0.04660791874612128, 0.6981055655669035, 0.01418501874881952, 0.22898673123094368, 0.041780237537376086, 0.09339111920119361, 0.20152820459204937, 0.6623396480189915, 0.9940477536253537, 0.003586725629448203, 0.010760176888344608, 0.17216283021351372, 0.8105999922552939, 0.22915389008518414, 0.05764283420699477, 0.1540292127170516, 0.20907339456225563, 0.3501093454703535, 0.9855340716727832, 0.9976114426271809, 0.9958247775000878, 0.00624742910742564, 0.6702598942395223, 0.1909928327127267, 0.06872172018168204, 0.06336678094674578, 0.0011762241717486622, 0.6586855361792509, 0.18113852244929396, 0.08233569202240636, 0.07645457116366304, 0.23161743062196627, 0.259887652346703, 0.12399220054709115, 0.14730273424994428, 0.2365771186438499, 0.09086140234059147, 0.2351706884109426, 0.670770940808484, 0.002672394186487984, 0.9855948939902895, 0.9488081502740565, 0.05111330335594711, 0.9919043244989649, 0.11423319872007891, 0.8834034034352769, 0.923676602121679, 0.07555419210903135, 0.003319405317019446, 0.9958215951058338, 0.011697029545430228, 0.9869368678956756, 0.9957455278028905, 0.9942176293808918, 0.9964208212007404, 0.9951817469218815, 0.491019210936487, 0.05125305287489426, 0.18929959674960947, 0.15432032343718163, 0.11429056681226421, 0.9960305432260379, 0.18719245471933235, 0.7469698914281051, 0.06659731562130093, 0.007566491713915693, 0.776754420802831, 0.19824208290459114, 0.01729483820323587, 0.9969067275825336, 0.003154768125261182, 0.9942305209060351, 0.9932840069545055, 0.9965961121092095, 0.9968184030067563, 0.0021163872675302683, 0.9951981368352024, 0.09601348508729439, 0.19726406936116847, 0.0907763859007147, 0.5848094091680658, 0.03142259511947816, 0.14091245817938416, 0.8569000835232822, 0.9956570637462594, 0.994792171932596, 0.9974511672467858, 0.9269150534736845, 0.07043427458006721, 0.12726678653760654, 0.1206677679763973, 0.7504026821032207, 0.000942716937315604, 0.01962168854835822, 0.8927868289502991, 0.08339217633052246, 0.9988611885169691, 0.9988136842016615, 0.9961570414285191, 0.9936384375750689, 0.0790139517842623, 0.11529586841989295, 0.6409805272294747, 0.16528428689565072, 0.9933009641633262, 0.06464363350857277, 0.07003060296762051, 0.23882231268444942, 0.6248884572495368, 0.048254003518723866, 0.04071431546892326, 0.17416679395039394, 0.015079376099601208, 0.7215481463659178, 0.9948401673049633, 0.000915686056975717, 0.9980978021035315, 0.9961155883245001, 0.0028956848497805237, 0.9956920071899841, 0.9932906956798154, 0.00601357019610035, 0.9922390823565577, 0.7746026664954138, 0.22503747191762785, 0.020903692286407517, 0.4605146755217656, 0.5149909645105851, 0.0034839487144012527, 0.0011579068578031167, 0.3963901143212669, 0.005403565336414545, 0.5967080007212061, 0.9865027155073542, 0.005769021728113183, 0.15814961485827325, 0.36077880889543584, 0.48062656390522107, 0.9984787369357956, 0.9971478006742645, 0.00035723514702278725, 0.9327409688764975, 0.067160207640284, 0.006874357773818087, 0.7471567605418533, 0.24575829041399663, 0.9893371840465814, 0.9222299789219989, 0.07766147190922096, 0.31696556098119033, 0.6826950544210253, 0.00724184414698375, 0.6674566355470023, 0.15569964916015064, 0.17018333745411812, 0.9967443764175086, 0.987311431571036, 0.05135631809472123, 0.9477575066571282, 0.9968402472680742, 0.14189208432091757, 0.8567408129250339, 0.9910464633480547, 0.992679257262379, 0.008009170094443983, 0.9931370917110538, 0.9944137677455521, 0.9970565933053416, 0.9995951479644407, 0.999483816473298, 0.31140144320323654, 0.09682880696618051, 0.5910430377215659, 0.9873265541293477, 0.9903634501875623, 0.9879193919328112, 0.9972068074862385, 0.9948615749779393, 0.994942654419031, 0.9974432389720956, 0.23104273702476605, 0.03872224642873174, 0.009035190833370739, 0.0012907415476243913, 0.7215245251220348, 0.9972248693764583, 0.02018477430571841, 0.978961553827343, 0.993385949438383, 0.00346127508515116, 0.9928863845187261, 0.9913978552629659, 0.03876501132758882, 0.9605108362280341, 0.991735326983275, 0.0074888320268424215, 0.997228128132075, 0.3361493371943319, 0.6635675227732265, 0.10803438627788424, 0.878611406885542, 0.0010240226187477179, 0.012544277079659544, 0.14450190162762397, 0.8281372568822255, 0.026701438344234867, 0.0003926682109446304, 0.06741344517981374, 0.9313042611877972, 0.7103286598532716, 0.2891603394092964, 0.0703873256009158, 0.4459522077824807, 0.015669263296316946, 0.4678394327043202, 0.11327813098901023, 0.5589381463273531, 0.327165128316944, 0.995323740947443, 0.9888507629524202, 0.09921944466203897, 0.8981970779931949, 0.9940090878443809, 0.9893544045113903, 0.1706537391990898, 0.36648589893575023, 0.34597014886810007, 0.06030387141097162, 0.05626289033704053, 0.9978081231522471, 0.004701182431737488, 0.7835304052895813, 0.08853893579772268, 0.12301427363046426, 0.9033350189977343, 0.00950878967366036, 0.08557910706294325, 0.9944562124645405, 0.0033710380083543747, 0.6993283418976288, 0.032355885429543284, 0.22207903181186528, 0.04632774504684607, 0.9833376898402051, 0.015472096518464765, 0.9836899059927119, 0.2227636607113645, 0.5961712469787892, 0.0002784545758892056, 0.18071701975209445, 0.7653408901369824, 0.23308108926899007, 0.99529270021532, 0.3458122372519773, 0.18011054023540482, 0.07984900617102947, 0.2695654418856559, 0.12487664122988068, 0.2644265018168504, 0.20136771759979544, 0.07693171674480703, 0.22154652854925302, 0.23541946107700512, 0.07025913800702545, 0.20791941518689225, 0.17505242859377526, 0.29342121364289947, 0.2534092299643223, 0.9964679538295705, 0.9942823025182997, 0.3237539642751807, 0.4518025167655047, 0.0700407419206825, 0.015551996180119132, 0.13883278341814378, 0.013316469601402646, 0.6779293615259528, 0.12711175528611618, 0.18037763369172674, 0.5875356259279303, 0.3645833652281263, 0.000972741102529686, 0.046886121141930866, 0.9992378788519103, 0.9947752808811351, 0.012717047107442616, 0.9855711508268027, 0.9958010082225226, 0.03586028038686344, 0.3091403481626159, 0.5864392404644823, 0.06862915729210073, 0.0025265558956859063, 0.1806487465415423, 0.6859599256787235, 0.0012632779478429531, 0.13011762862782417, 0.02854562880761226, 0.9705513794588169, 0.9946091734539599, 0.06850726222813859, 0.5918077850896131, 0.15261518813199193, 0.1777119079581417, 0.009496056150435053, 0.2763471949933395, 0.1406498268424882, 0.03664819431811312, 0.04556261996305956, 0.5021793113319826, 0.9889832916850636, 0.9886112496776928, 0.7697059387937154, 0.06313769818591253, 0.00947065472788688, 0.1575572559275726, 0.9968156261193124, 0.9734956644854704, 0.02626792592727375, 0.9965029422567258, 0.477623048866151, 0.05158994604477589, 0.470134185730619, 0.35598583231061615, 0.22022183417885124, 0.10103367302829018, 0.029994371680273645, 0.2920504610974013, 0.9988978070335487, 0.9986287629337447, 0.7413826581372956, 0.0013729308484023992, 0.25673806865124865, 0.7361530708121953, 0.038718225671245846, 0.11595196379032788, 0.09385622243867449, 0.015304848367429642, 0.19497656207171166, 0.7600901185663096, 0.04033997835966448, 0.004600172970838931, 0.9881114821052225, 0.9896220558013962, 0.01187295140886047, 0.2989190119407224, 0.003492044532017785, 0.6851391371818895, 0.0027379811106438574, 0.9966251242743641, 0.31555152639789696, 0.6847468122834364, 0.5042419764716003, 0.14724194745255537, 0.2607580857120673, 0.08801613618672305], \"Term\": [\"able\", \"able\", \"able\", \"able\", \"able\", \"academy\", \"accomplish\", \"ace\", \"action\", \"actions\", \"add\", \"add\", \"add\", \"add\", \"adult\", \"adult\", \"advantage\", \"agree\", \"algebra\", \"amazing\", \"answer\", \"answer\", \"answered\", \"answering\", \"answers\", \"answers\", \"apply\", \"arts\", \"arts\", \"ask\", \"ask\", \"ask\", \"ask\", \"asking\", \"asking\", \"asking\", \"asking\", \"assessments\", \"assignments\", \"assignments\", \"bed\", \"behavior\", \"best\", \"best\", \"best\", \"better\", \"better\", \"better\", \"better\", \"better\", \"biology\", \"block\", \"book\", \"book\", \"book\", \"bring\", \"bring\", \"card\", \"cards\", \"carefully\", \"challenges\", \"change\", \"change\", \"change\", \"chapter\", \"chapters\", \"check\", \"check\", \"check\", \"class\", \"class\", \"class\", \"class\", \"class\", \"classes\", \"classes\", \"classmate\", \"classwork\", \"classwork\", \"complete\", \"complete\", \"complete\", \"complete\", \"complete\", \"concepts\", \"concepts\", \"concepts\", \"conclusion\", \"conclusion\", \"confused\", \"confused\", \"confused\", \"continue\", \"continue\", \"continue\", \"continue\", \"continue\", \"correct\", \"correct\", \"correct\", \"correct\", \"credit\", \"criteria\", \"cross\", \"current\", \"data\", \"discussion\", \"dish\", \"distracted\", \"double\", \"double\", \"draft\", \"drop\", \"dropped\", \"eat\", \"edit\", \"edit\", \"educ\", \"efficiently\", \"efficiently\", \"ela\", \"encountered\", \"engage\", \"english\", \"english\", \"enjoyed\", \"enrichment\", \"equation\", \"equations\", \"equations\", \"error\", \"essay\", \"evidence\", \"exam\", \"exam\", \"exams\", \"exit\", \"extra\", \"extra\", \"extra\", \"extra\", \"extra\", \"feedback\", \"feedback\", \"feel\", \"feel\", \"feel\", \"feel\", \"feel\", \"felt\", \"felt\", \"felt\", \"felt\", \"finish\", \"finished\", \"finished\", \"finished\", \"finished\", \"finished\", \"finishing\", \"finishing\", \"friday\", \"getting\", \"getting\", \"getting\", \"getting\", \"getting\", \"goal\", \"goal\", \"going\", \"going\", \"going\", \"going\", \"going\", \"good\", \"good\", \"good\", \"good\", \"good\", \"got\", \"got\", \"got\", \"got\", \"got\", \"grade\", \"grade\", \"grade\", \"grades\", \"grammar\", \"graph\", \"graphs\", \"group\", \"group\", \"group\", \"group\", \"group\", \"guide\", \"habits\", \"help\", \"help\", \"help\", \"help\", \"help\", \"helped\", \"helped\", \"helped\", \"helped\", \"helped\", \"helpful\", \"helpful\", \"helpful\", \"history\", \"history\", \"home\", \"home\", \"homework\", \"hw\", \"ideas\", \"ignore\", \"improve\", \"improve\", \"improve\", \"improve\", \"improve\", \"increase\", \"independent\", \"ixl\", \"journal\", \"kc\", \"know\", \"know\", \"know\", \"know\", \"know\", \"knowledge\", \"knowledge\", \"lab\", \"late\", \"learned\", \"learned\", \"learned\", \"learned\", \"learned\", \"learning\", \"learning\", \"learning\", \"learning\", \"letter\", \"life\", \"life\", \"life\", \"life\", \"like\", \"like\", \"like\", \"like\", \"like\", \"likely\", \"line\", \"lines\", \"look\", \"look\", \"look\", \"look\", \"look\", \"looking\", \"looking\", \"looking\", \"looking\", \"looking\", \"lot\", \"lot\", \"lot\", \"lot\", \"lot\", \"main\", \"main\", \"main\", \"main\", \"major\", \"math\", \"math\", \"messed\", \"minutes\", \"minutes\", \"missing\", \"missing\", \"mistake\", \"mistake\", \"mistakes\", \"mistakes\", \"moment\", \"money\", \"mood\", \"music\", \"need\", \"need\", \"need\", \"need\", \"need\", \"newsela\", \"night\", \"night\", \"night\", \"notes\", \"notes\", \"notes\", \"notes\", \"number\", \"number\", \"numbers\", \"object\", \"office\", \"packet\", \"packet\", \"packets\", \"paper\", \"paper\", \"paper\", \"paper\", \"paper\", \"paragraph\", \"paragraph\", \"paragraphs\", \"passage\", \"passing\", \"peers\", \"peers\", \"people\", \"people\", \"people\", \"people\", \"person\", \"person\", \"person\", \"personal\", \"phone\", \"pillars\", \"planning\", \"practice\", \"practice\", \"practice\", \"practice\", \"predict\", \"prepared\", \"prepared\", \"prepared\", \"prepared\", \"pretty\", \"pretty\", \"pretty\", \"pretty\", \"pretty\", \"priority\", \"problem\", \"problem\", \"problems\", \"problems\", \"procrastinating\", \"punctuation\", \"push\", \"push\", \"question\", \"question\", \"questions\", \"questions\", \"questions\", \"questions\", \"quiz\", \"quiz\", \"quiz\", \"quiz\", \"quizlet\", \"quizlet\", \"quizzes\", \"quizzes\", \"quizzes\", \"raise\", \"reach\", \"read\", \"read\", \"read\", \"reading\", \"reading\", \"reading\", \"refer\", \"reflect\", \"reflect\", \"reflection\", \"reflection\", \"remember\", \"remember\", \"remember\", \"remember\", \"reread\", \"rereading\", \"research\", \"research\", \"response\", \"retake\", \"retake\", \"retaking\", \"rough\", \"rubric\", \"rubric\", \"satisfied\", \"sba\", \"school\", \"science\", \"sdl\", \"sdl\", \"sdl\", \"sentences\", \"session\", \"sessions\", \"simple\", \"sketch\", \"skill\", \"sleep\", \"small\", \"small\", \"small\", \"small\", \"small\", \"solve\", \"somewhat\", \"somewhat\", \"spanish\", \"spanish\", \"speech\", \"spelling\", \"stand\", \"stand\", \"stay\", \"stay\", \"staying\", \"story\", \"story\", \"strategies\", \"strategies\", \"strategies\", \"strategies\", \"strategy\", \"strategy\", \"strategy\", \"strategy\", \"struggling\", \"struggling\", \"studied\", \"studied\", \"study\", \"study\", \"study\", \"study\", \"studying\", \"studying\", \"studying\", \"subjects\", \"summative\", \"summer\", \"summer\", \"super\", \"suppose\", \"sure\", \"sure\", \"sure\", \"sure\", \"sure\", \"table\", \"taking\", \"taking\", \"taking\", \"taking\", \"talk\", \"talk\", \"talk\", \"task\", \"task\", \"teacher\", \"teacher\", \"teacher\", \"teacher\", \"teachers\", \"teachers\", \"tend\", \"test\", \"test\", \"test\", \"test\", \"text\", \"text\", \"textbook\", \"thing\", \"thing\", \"thing\", \"thing\", \"thing\", \"things\", \"things\", \"things\", \"things\", \"things\", \"think\", \"think\", \"think\", \"think\", \"think\", \"thoughts\", \"tickets\", \"time\", \"time\", \"time\", \"time\", \"time\", \"took\", \"took\", \"took\", \"took\", \"try\", \"try\", \"try\", \"try\", \"turn\", \"tutorial\", \"twice\", \"twice\", \"underline\", \"understand\", \"understand\", \"understand\", \"understand\", \"understanding\", \"understanding\", \"understanding\", \"understanding\", \"understanding\", \"understood\", \"understood\", \"upcoming\", \"use\", \"use\", \"use\", \"use\", \"use\", \"ve\", \"ve\", \"ve\", \"ve\", \"ve\", \"waiting\", \"wanna\", \"want\", \"want\", \"want\", \"want\", \"water\", \"week\", \"week\", \"weekend\", \"weeks\", \"weeks\", \"weeks\", \"went\", \"went\", \"went\", \"went\", \"went\", \"win\", \"wise\", \"words\", \"words\", \"words\", \"work\", \"work\", \"work\", \"work\", \"work\", \"worked\", \"worked\", \"worked\", \"worked\", \"worksheets\", \"worth\", \"write\", \"write\", \"write\", \"write\", \"writing\", \"writing\", \"wrong\", \"wrong\", \"year\", \"year\", \"year\", \"year\"]}, \"R\": 30, \"lambda.step\": 0.01, \"plot.opts\": {\"xlab\": \"PC1\", \"ylab\": \"PC2\"}, \"topic.order\": [2, 5, 3, 4, 1]};\n",
       "\n",
       "function LDAvis_load_lib(url, callback){\n",
       "  var s = document.createElement('script');\n",
       "  s.src = url;\n",
       "  s.async = true;\n",
       "  s.onreadystatechange = s.onload = callback;\n",
       "  s.onerror = function(){console.warn(\"failed to load library \" + url);};\n",
       "  document.getElementsByTagName(\"head\")[0].appendChild(s);\n",
       "}\n",
       "\n",
       "if(typeof(LDAvis) !== \"undefined\"){\n",
       "   // already loaded: just create the visualization\n",
       "   !function(LDAvis){\n",
       "       new LDAvis(\"#\" + \"ldavis_el654049090278805582192634\", ldavis_el654049090278805582192634_data);\n",
       "   }(LDAvis);\n",
       "}else if(typeof define === \"function\" && define.amd){\n",
       "   // require.js is available: use it to load d3/LDAvis\n",
       "   require.config({paths: {d3: \"https://cdnjs.cloudflare.com/ajax/libs/d3/3.5.5/d3.min\"}});\n",
       "   require([\"d3\"], function(d3){\n",
       "      window.d3 = d3;\n",
       "      LDAvis_load_lib(\"https://cdn.rawgit.com/bmabey/pyLDAvis/files/ldavis.v1.0.0.js\", function(){\n",
       "        new LDAvis(\"#\" + \"ldavis_el654049090278805582192634\", ldavis_el654049090278805582192634_data);\n",
       "      });\n",
       "    });\n",
       "}else{\n",
       "    // require.js not available: dynamically load d3 & LDAvis\n",
       "    LDAvis_load_lib(\"https://cdnjs.cloudflare.com/ajax/libs/d3/3.5.5/d3.min.js\", function(){\n",
       "         LDAvis_load_lib(\"https://cdn.rawgit.com/bmabey/pyLDAvis/files/ldavis.v1.0.0.js\", function(){\n",
       "                 new LDAvis(\"#\" + \"ldavis_el654049090278805582192634\", ldavis_el654049090278805582192634_data);\n",
       "            })\n",
       "         });\n",
       "}\n",
       "</script>"
      ],
      "text/plain": [
       "<IPython.core.display.HTML object>"
      ]
     },
     "execution_count": 48,
     "metadata": {},
     "output_type": "execute_result"
    }
   ],
   "source": [
    "vis_data = gensimvis.prepare(reflections_topics, corpus, dictionary)\n",
    "pyLDAvis.display(vis_data)"
   ]
  },
  {
   "cell_type": "code",
   "execution_count": 49,
   "metadata": {},
   "outputs": [
    {
     "ename": "NameError",
     "evalue": "name 'coherence_values' is not defined",
     "output_type": "error",
     "traceback": [
      "\u001b[0;31m---------------------------------------------------------------------------\u001b[0m",
      "\u001b[0;31mNameError\u001b[0m                                 Traceback (most recent call last)",
      "\u001b[0;32m<ipython-input-49-a022767d1167>\u001b[0m in \u001b[0;36m<module>\u001b[0;34m()\u001b[0m\n\u001b[1;32m      2\u001b[0m \u001b[0mlimit\u001b[0m\u001b[0;34m=\u001b[0m\u001b[0;36m40\u001b[0m\u001b[0;34m;\u001b[0m \u001b[0mstart\u001b[0m\u001b[0;34m=\u001b[0m\u001b[0;36m2\u001b[0m\u001b[0;34m;\u001b[0m \u001b[0mstep\u001b[0m\u001b[0;34m=\u001b[0m\u001b[0;36m6\u001b[0m\u001b[0;34m;\u001b[0m\u001b[0;34m\u001b[0m\u001b[0m\n\u001b[1;32m      3\u001b[0m \u001b[0mx\u001b[0m \u001b[0;34m=\u001b[0m \u001b[0mrange\u001b[0m\u001b[0;34m(\u001b[0m\u001b[0mstart\u001b[0m\u001b[0;34m,\u001b[0m \u001b[0mlimit\u001b[0m\u001b[0;34m,\u001b[0m \u001b[0mstep\u001b[0m\u001b[0;34m)\u001b[0m\u001b[0;34m\u001b[0m\u001b[0m\n\u001b[0;32m----> 4\u001b[0;31m \u001b[0mplt\u001b[0m\u001b[0;34m.\u001b[0m\u001b[0mplot\u001b[0m\u001b[0;34m(\u001b[0m\u001b[0mx\u001b[0m\u001b[0;34m,\u001b[0m \u001b[0mcoherence_values\u001b[0m\u001b[0;34m)\u001b[0m\u001b[0;34m\u001b[0m\u001b[0m\n\u001b[0m\u001b[1;32m      5\u001b[0m \u001b[0mplt\u001b[0m\u001b[0;34m.\u001b[0m\u001b[0mxlabel\u001b[0m\u001b[0;34m(\u001b[0m\u001b[0;34m\"Num Topics\"\u001b[0m\u001b[0;34m)\u001b[0m\u001b[0;34m\u001b[0m\u001b[0m\n\u001b[1;32m      6\u001b[0m \u001b[0mplt\u001b[0m\u001b[0;34m.\u001b[0m\u001b[0mylabel\u001b[0m\u001b[0;34m(\u001b[0m\u001b[0;34m\"Coherence score\"\u001b[0m\u001b[0;34m)\u001b[0m\u001b[0;34m\u001b[0m\u001b[0m\n",
      "\u001b[0;31mNameError\u001b[0m: name 'coherence_values' is not defined"
     ]
    }
   ],
   "source": [
    "# Show graph\n",
    "limit=40; start=2; step=6;\n",
    "x = range(start, limit, step)\n",
    "plt.plot(x, coherence_values)\n",
    "plt.xlabel(\"Num Topics\")\n",
    "plt.ylabel(\"Coherence score\")\n",
    "plt.legend((\"coherence_values\"), loc='best')\n",
    "plt.show()"
   ]
  },
  {
   "cell_type": "code",
   "execution_count": null,
   "metadata": {
    "collapsed": true
   },
   "outputs": [],
   "source": []
  }
 ],
 "metadata": {
  "kernelspec": {
   "display_name": "Python 3",
   "language": "python",
   "name": "python3"
  },
  "language_info": {
   "codemirror_mode": {
    "name": "ipython",
    "version": 3
   },
   "file_extension": ".py",
   "mimetype": "text/x-python",
   "name": "python",
   "nbconvert_exporter": "python",
   "pygments_lexer": "ipython3",
   "version": "3.6.0"
  }
 },
 "nbformat": 4,
 "nbformat_minor": 2
}
